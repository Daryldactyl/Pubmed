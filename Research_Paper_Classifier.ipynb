{
 "cells": [
  {
   "cell_type": "markdown",
   "id": "53159f77-8b21-403c-9ef2-4bf94d8a6ed7",
   "metadata": {},
   "source": [
    "# SkimLit 📄🔥\n",
    "\n",
    "* Break down research papers (medical abstract) into more understandable or digestable sections"
   ]
  },
  {
   "cell_type": "markdown",
   "id": "6deba705-3e2c-41f7-8f98-00050a1535ff",
   "metadata": {},
   "source": [
    "### What steps are we taking?\n",
    "\n",
    "1. Downloading a text dataset (PubMed 200K RCT)\n",
    "2. Writing a preprocessing function for our text data\n",
    "3. Set up multiple modelling experiments with different levels of embeddings\n",
    "4. Buld a multimodal model to take in different sources of data\n",
    "5. Replicate the model powering https://arxiv.org/abs/1710.06071\n",
    "6. Find the most wrong predictions"
   ]
  },
  {
   "cell_type": "markdown",
   "id": "b9a49cd7-71d8-4828-aa05-e8a50a6d9147",
   "metadata": {},
   "source": [
    "## Get the Data\n",
    "\n",
    "Luckily for us, the author of the research paper has made the dataset publicly available: https://github.com/Franck-Dernoncourt/pubmed-rct"
   ]
  },
  {
   "cell_type": "code",
   "execution_count": 1,
   "id": "1da9b5d5-baab-4ae7-85de-92a89b75e474",
   "metadata": {},
   "outputs": [
    {
     "name": "stdout",
     "output_type": "stream",
     "text": [
      "Cloning into 'pubmed-rct'...\n",
      "remote: Enumerating objects: 39, done.\u001b[K\n",
      "remote: Counting objects: 100% (14/14), done.\u001b[K\n",
      "remote: Compressing objects: 100% (9/9), done.\u001b[K\n",
      "remote: Total 39 (delta 8), reused 5 (delta 5), pack-reused 25\u001b[K\n",
      "Receiving objects: 100% (39/39), 177.08 MiB | 7.11 MiB/s, done.\n",
      "Resolving deltas: 100% (15/15), done.\n",
      "\u001b[34mPubMed_200k_RCT\u001b[m\u001b[m\n",
      "\u001b[34mPubMed_200k_RCT_numbers_replaced_with_at_sign\u001b[m\u001b[m\n",
      "\u001b[34mPubMed_20k_RCT\u001b[m\u001b[m\n",
      "\u001b[34mPubMed_20k_RCT_numbers_replaced_with_at_sign\u001b[m\u001b[m\n",
      "README.md\n"
     ]
    }
   ],
   "source": [
    "!git clone https://github.com/Franck-Dernoncourt/pubmed-rct\n",
    "!ls pubmed-rct"
   ]
  },
  {
   "cell_type": "code",
   "execution_count": 11,
   "id": "5c6a233f-4ff4-424c-99df-f77fd3ecd808",
   "metadata": {},
   "outputs": [
    {
     "name": "stdout",
     "output_type": "stream",
     "text": [
      "dev.txt   test.txt  train.txt\n"
     ]
    }
   ],
   "source": [
    "#We're starting with the smaller dataset for quicker testing, lets see what is in it!\n",
    "!ls pubmed-rct/PubMed_20k_RCT_numbers_replaced_with_at_sign/"
   ]
  },
  {
   "cell_type": "code",
   "execution_count": 1,
   "id": "35d8618f-b054-4242-95bf-e97ff579c09c",
   "metadata": {},
   "outputs": [],
   "source": [
    "data_dir = 'pubmed-rct/PubMed_20k_RCT_numbers_replaced_with_at_sign/'"
   ]
  },
  {
   "cell_type": "code",
   "execution_count": 2,
   "id": "8bead4b1-460c-45c0-a5de-0ea1d31189ea",
   "metadata": {},
   "outputs": [
    {
     "data": {
      "text/plain": [
       "['pubmed-rct/PubMed_20k_RCT_numbers_replaced_with_at_sign/dev.txt',\n",
       " 'pubmed-rct/PubMed_20k_RCT_numbers_replaced_with_at_sign/train.txt',\n",
       " 'pubmed-rct/PubMed_20k_RCT_numbers_replaced_with_at_sign/test.txt',\n",
       " 'pubmed-rct/PubMed_20k_RCT_numbers_replaced_with_at_sign/.ipynb_checkpoints']"
      ]
     },
     "execution_count": 2,
     "metadata": {},
     "output_type": "execute_result"
    }
   ],
   "source": [
    "import os\n",
    "filenames = [data_dir + filename for filename in os.listdir(data_dir)]\n",
    "filenames"
   ]
  },
  {
   "cell_type": "markdown",
   "id": "e5df4a58-5cc4-4a3f-8f93-3eafb86717a9",
   "metadata": {},
   "source": [
    "## Preprocess Data\n",
    "\n",
    "Let's get an idea for the dataset by Visualizing"
   ]
  },
  {
   "cell_type": "code",
   "execution_count": 3,
   "id": "974e8b9c-825b-49ff-b0d2-4bdece844b3d",
   "metadata": {},
   "outputs": [],
   "source": [
    "#Function to read lines of a document\n",
    "def get_lines(filename):\n",
    "    \"\"\"\n",
    "    Reads filename (a text filename) and returns the lines of text as a list.\n",
    "\n",
    "    Args:\n",
    "        filename: a string containing the target filepath.\n",
    "\n",
    "    Returns:\n",
    "        A list of strings with one string per line from the target filename.\n",
    "    \"\"\"\n",
    "    with open(filename, 'r') as f:\n",
    "        return f.readlines()"
   ]
  },
  {
   "cell_type": "code",
   "execution_count": 4,
   "id": "a22404b5-cf28-4cd3-b9e2-37c5a6f5d002",
   "metadata": {},
   "outputs": [
    {
     "data": {
      "text/plain": [
       "['###24293578\\n',\n",
       " 'OBJECTIVE\\tTo investigate the efficacy of @ weeks of daily low-dose oral prednisolone in improving pain , mobility , and systemic low-grade inflammation in the short term and whether the effect would be sustained at @ weeks in older adults with moderate to severe knee osteoarthritis ( OA ) .\\n',\n",
       " 'METHODS\\tA total of @ patients with primary knee OA were randomized @:@ ; @ received @ mg/day of prednisolone and @ received placebo for @ weeks .\\n',\n",
       " 'METHODS\\tOutcome measures included pain reduction and improvement in function scores and systemic inflammation markers .\\n',\n",
       " 'METHODS\\tPain was assessed using the visual analog pain scale ( @-@ mm ) .\\n',\n",
       " 'METHODS\\tSecondary outcome measures included the Western Ontario and McMaster Universities Osteoarthritis Index scores , patient global assessment ( PGA ) of the severity of knee OA , and @-min walk distance ( @MWD ) .\\n',\n",
       " 'METHODS\\tSerum levels of interleukin @ ( IL-@ ) , IL-@ , tumor necrosis factor ( TNF ) - , and high-sensitivity C-reactive protein ( hsCRP ) were measured .\\n',\n",
       " 'RESULTS\\tThere was a clinically relevant reduction in the intervention group compared to the placebo group for knee pain , physical function , PGA , and @MWD at @ weeks .\\n',\n",
       " 'RESULTS\\tThe mean difference between treatment arms ( @ % CI ) was @ ( @-@ @ ) , p < @ ; @ ( @-@ @ ) , p < @ ; @ ( @-@ @ ) , p < @ ; and @ ( @-@ @ ) , p < @ , respectively .\\n',\n",
       " 'RESULTS\\tFurther , there was a clinically relevant reduction in the serum levels of IL-@ , IL-@ , TNF - , and hsCRP at @ weeks in the intervention group when compared to the placebo group .\\n',\n",
       " 'RESULTS\\tThese differences remained significant at @ weeks .\\n',\n",
       " 'RESULTS\\tThe Outcome Measures in Rheumatology Clinical Trials-Osteoarthritis Research Society International responder rate was @ % in the intervention group and @ % in the placebo group ( p < @ ) .\\n',\n",
       " 'CONCLUSIONS\\tLow-dose oral prednisolone had both a short-term and a longer sustained effect resulting in less knee pain , better physical function , and attenuation of systemic inflammation in older patients with knee OA ( ClinicalTrials.gov identifier NCT@ ) .\\n',\n",
       " '\\n',\n",
       " '###24854809\\n',\n",
       " 'BACKGROUND\\tEmotional eating is associated with overeating and the development of obesity .\\n',\n",
       " 'BACKGROUND\\tYet , empirical evidence for individual ( trait ) differences in emotional eating and cognitive mechanisms that contribute to eating during sad mood remain equivocal .\\n',\n",
       " 'OBJECTIVE\\tThe aim of this study was to test if attention bias for food moderates the effect of self-reported emotional eating during sad mood ( vs neutral mood ) on actual food intake .\\n',\n",
       " 'OBJECTIVE\\tIt was expected that emotional eating is predictive of elevated attention for food and higher food intake after an experimentally induced sad mood and that attentional maintenance on food predicts food intake during a sad versus a neutral mood .\\n',\n",
       " 'METHODS\\tParticipants ( N = @ ) were randomly assigned to one of the two experimental mood induction conditions ( sad/neutral ) .\\n']"
      ]
     },
     "execution_count": 4,
     "metadata": {},
     "output_type": "execute_result"
    }
   ],
   "source": [
    "#Read in the training lines\n",
    "train_lines = get_lines(data_dir+'train.txt')\n",
    "train_lines[:20]"
   ]
  },
  {
   "cell_type": "code",
   "execution_count": 5,
   "id": "546e0ddf-79d0-40a8-94ee-3bae07cf0283",
   "metadata": {},
   "outputs": [
    {
     "data": {
      "text/plain": [
       "210040"
      ]
     },
     "execution_count": 5,
     "metadata": {},
     "output_type": "execute_result"
    }
   ],
   "source": [
    "len(train_lines)"
   ]
  },
  {
   "cell_type": "markdown",
   "id": "8b71bb54-6d03-4152-8478-818f9fb28617",
   "metadata": {},
   "source": [
    "How will we separate the label from the text? \n",
    "\n",
    "```\n",
    "[{'line_number': 0,\n",
    "    'target': 'BACKGROUND',\n",
    "    'text': 'Emotional eating is associated with overeating and the development of obesity .\\n',\n",
    "    'total_lines': 11},\n",
    "    ...]\n",
    "```"
   ]
  },
  {
   "cell_type": "code",
   "execution_count": 6,
   "id": "7c9e4db2-5d3a-4e42-8373-b7569ba23e21",
   "metadata": {},
   "outputs": [],
   "source": [
    "def preprocess_text_with_line_numbers(filename):\n",
    "    input_lines = get_lines(filename)\n",
    "    abstract_lines = \"\"\n",
    "    abstract_samples = []\n",
    "    \n",
    "    #Split lines from the given file into individual abstract lines\n",
    "    for line in input_lines:\n",
    "        if line.startswith('###'):\n",
    "            abstract_id = line\n",
    "            abstract_lines = \"\"\n",
    "        elif line.isspace():\n",
    "            abstract_line_split = abstract_lines.splitlines()\n",
    "\n",
    "            #Iterate through each line in a single abstract and count them at the same time\n",
    "            for abstract_line_number, abstract_line in enumerate(abstract_line_split):\n",
    "                line_data = {}\n",
    "                target_text_split = abstract_line.split('\\t')\n",
    "                line_data['target'] = target_text_split[0]\n",
    "                line_data['text'] = target_text_split[1].lower()\n",
    "                line_data['line_number'] = abstract_line_number\n",
    "                line_data['total_lines'] = len(abstract_line_split) -1\n",
    "                abstract_samples.append(line_data)\n",
    "\n",
    "        else:\n",
    "            abstract_lines += line\n",
    "\n",
    "    return  abstract_samples        "
   ]
  },
  {
   "cell_type": "code",
   "execution_count": 7,
   "id": "5f1f0d1e-509f-4ef3-870a-78a266f42afa",
   "metadata": {},
   "outputs": [
    {
     "name": "stdout",
     "output_type": "stream",
     "text": [
      "180040 30212 30135\n"
     ]
    }
   ],
   "source": [
    "# Get the data and preprocess it\n",
    "train_samples = preprocess_text_with_line_numbers(data_dir + 'train.txt')\n",
    "val_samples = preprocess_text_with_line_numbers(data_dir + 'dev.txt')\n",
    "test_samples = preprocess_text_with_line_numbers(data_dir + 'test.txt')\n",
    "print(len(train_samples), len(val_samples), len(test_samples))"
   ]
  },
  {
   "cell_type": "code",
   "execution_count": 8,
   "id": "5da23736-c710-4d33-9ccf-57b06dcf9dc0",
   "metadata": {},
   "outputs": [
    {
     "data": {
      "text/plain": [
       "[{'target': 'OBJECTIVE',\n",
       "  'text': 'to investigate the efficacy of @ weeks of daily low-dose oral prednisolone in improving pain , mobility , and systemic low-grade inflammation in the short term and whether the effect would be sustained at @ weeks in older adults with moderate to severe knee osteoarthritis ( oa ) .',\n",
       "  'line_number': 0,\n",
       "  'total_lines': 11},\n",
       " {'target': 'METHODS',\n",
       "  'text': 'a total of @ patients with primary knee oa were randomized @:@ ; @ received @ mg/day of prednisolone and @ received placebo for @ weeks .',\n",
       "  'line_number': 1,\n",
       "  'total_lines': 11},\n",
       " {'target': 'METHODS',\n",
       "  'text': 'outcome measures included pain reduction and improvement in function scores and systemic inflammation markers .',\n",
       "  'line_number': 2,\n",
       "  'total_lines': 11},\n",
       " {'target': 'METHODS',\n",
       "  'text': 'pain was assessed using the visual analog pain scale ( @-@ mm ) .',\n",
       "  'line_number': 3,\n",
       "  'total_lines': 11},\n",
       " {'target': 'METHODS',\n",
       "  'text': 'secondary outcome measures included the western ontario and mcmaster universities osteoarthritis index scores , patient global assessment ( pga ) of the severity of knee oa , and @-min walk distance ( @mwd ) .',\n",
       "  'line_number': 4,\n",
       "  'total_lines': 11},\n",
       " {'target': 'METHODS',\n",
       "  'text': 'serum levels of interleukin @ ( il-@ ) , il-@ , tumor necrosis factor ( tnf ) - , and high-sensitivity c-reactive protein ( hscrp ) were measured .',\n",
       "  'line_number': 5,\n",
       "  'total_lines': 11},\n",
       " {'target': 'RESULTS',\n",
       "  'text': 'there was a clinically relevant reduction in the intervention group compared to the placebo group for knee pain , physical function , pga , and @mwd at @ weeks .',\n",
       "  'line_number': 6,\n",
       "  'total_lines': 11},\n",
       " {'target': 'RESULTS',\n",
       "  'text': 'the mean difference between treatment arms ( @ % ci ) was @ ( @-@ @ ) , p < @ ; @ ( @-@ @ ) , p < @ ; @ ( @-@ @ ) , p < @ ; and @ ( @-@ @ ) , p < @ , respectively .',\n",
       "  'line_number': 7,\n",
       "  'total_lines': 11},\n",
       " {'target': 'RESULTS',\n",
       "  'text': 'further , there was a clinically relevant reduction in the serum levels of il-@ , il-@ , tnf - , and hscrp at @ weeks in the intervention group when compared to the placebo group .',\n",
       "  'line_number': 8,\n",
       "  'total_lines': 11},\n",
       " {'target': 'RESULTS',\n",
       "  'text': 'these differences remained significant at @ weeks .',\n",
       "  'line_number': 9,\n",
       "  'total_lines': 11},\n",
       " {'target': 'RESULTS',\n",
       "  'text': 'the outcome measures in rheumatology clinical trials-osteoarthritis research society international responder rate was @ % in the intervention group and @ % in the placebo group ( p < @ ) .',\n",
       "  'line_number': 10,\n",
       "  'total_lines': 11},\n",
       " {'target': 'CONCLUSIONS',\n",
       "  'text': 'low-dose oral prednisolone had both a short-term and a longer sustained effect resulting in less knee pain , better physical function , and attenuation of systemic inflammation in older patients with knee oa ( clinicaltrials.gov identifier nct@ ) .',\n",
       "  'line_number': 11,\n",
       "  'total_lines': 11},\n",
       " {'target': 'BACKGROUND',\n",
       "  'text': 'emotional eating is associated with overeating and the development of obesity .',\n",
       "  'line_number': 0,\n",
       "  'total_lines': 10},\n",
       " {'target': 'BACKGROUND',\n",
       "  'text': 'yet , empirical evidence for individual ( trait ) differences in emotional eating and cognitive mechanisms that contribute to eating during sad mood remain equivocal .',\n",
       "  'line_number': 1,\n",
       "  'total_lines': 10}]"
      ]
     },
     "execution_count": 8,
     "metadata": {},
     "output_type": "execute_result"
    }
   ],
   "source": [
    "#Check the first abstract of training data\n",
    "train_samples[:14]"
   ]
  },
  {
   "cell_type": "markdown",
   "id": "2fec734f-b7da-491f-9a8e-ea479840dfe1",
   "metadata": {},
   "source": [
    "### Now that the data is in a list of dictionaries we can turn it into a DataFrame for better visualization"
   ]
  },
  {
   "cell_type": "code",
   "execution_count": 9,
   "id": "515f946f-6e3e-460f-bd9f-881a609493f5",
   "metadata": {},
   "outputs": [
    {
     "data": {
      "text/html": [
       "<div>\n",
       "<style scoped>\n",
       "    .dataframe tbody tr th:only-of-type {\n",
       "        vertical-align: middle;\n",
       "    }\n",
       "\n",
       "    .dataframe tbody tr th {\n",
       "        vertical-align: top;\n",
       "    }\n",
       "\n",
       "    .dataframe thead th {\n",
       "        text-align: right;\n",
       "    }\n",
       "</style>\n",
       "<table border=\"1\" class=\"dataframe\">\n",
       "  <thead>\n",
       "    <tr style=\"text-align: right;\">\n",
       "      <th></th>\n",
       "      <th>target</th>\n",
       "      <th>text</th>\n",
       "      <th>line_number</th>\n",
       "      <th>total_lines</th>\n",
       "    </tr>\n",
       "  </thead>\n",
       "  <tbody>\n",
       "    <tr>\n",
       "      <th>0</th>\n",
       "      <td>OBJECTIVE</td>\n",
       "      <td>to investigate the efficacy of @ weeks of dail...</td>\n",
       "      <td>0</td>\n",
       "      <td>11</td>\n",
       "    </tr>\n",
       "    <tr>\n",
       "      <th>1</th>\n",
       "      <td>METHODS</td>\n",
       "      <td>a total of @ patients with primary knee oa wer...</td>\n",
       "      <td>1</td>\n",
       "      <td>11</td>\n",
       "    </tr>\n",
       "    <tr>\n",
       "      <th>2</th>\n",
       "      <td>METHODS</td>\n",
       "      <td>outcome measures included pain reduction and i...</td>\n",
       "      <td>2</td>\n",
       "      <td>11</td>\n",
       "    </tr>\n",
       "    <tr>\n",
       "      <th>3</th>\n",
       "      <td>METHODS</td>\n",
       "      <td>pain was assessed using the visual analog pain...</td>\n",
       "      <td>3</td>\n",
       "      <td>11</td>\n",
       "    </tr>\n",
       "    <tr>\n",
       "      <th>4</th>\n",
       "      <td>METHODS</td>\n",
       "      <td>secondary outcome measures included the wester...</td>\n",
       "      <td>4</td>\n",
       "      <td>11</td>\n",
       "    </tr>\n",
       "    <tr>\n",
       "      <th>5</th>\n",
       "      <td>METHODS</td>\n",
       "      <td>serum levels of interleukin @ ( il-@ ) , il-@ ...</td>\n",
       "      <td>5</td>\n",
       "      <td>11</td>\n",
       "    </tr>\n",
       "    <tr>\n",
       "      <th>6</th>\n",
       "      <td>RESULTS</td>\n",
       "      <td>there was a clinically relevant reduction in t...</td>\n",
       "      <td>6</td>\n",
       "      <td>11</td>\n",
       "    </tr>\n",
       "    <tr>\n",
       "      <th>7</th>\n",
       "      <td>RESULTS</td>\n",
       "      <td>the mean difference between treatment arms ( @...</td>\n",
       "      <td>7</td>\n",
       "      <td>11</td>\n",
       "    </tr>\n",
       "    <tr>\n",
       "      <th>8</th>\n",
       "      <td>RESULTS</td>\n",
       "      <td>further , there was a clinically relevant redu...</td>\n",
       "      <td>8</td>\n",
       "      <td>11</td>\n",
       "    </tr>\n",
       "    <tr>\n",
       "      <th>9</th>\n",
       "      <td>RESULTS</td>\n",
       "      <td>these differences remained significant at @ we...</td>\n",
       "      <td>9</td>\n",
       "      <td>11</td>\n",
       "    </tr>\n",
       "    <tr>\n",
       "      <th>10</th>\n",
       "      <td>RESULTS</td>\n",
       "      <td>the outcome measures in rheumatology clinical ...</td>\n",
       "      <td>10</td>\n",
       "      <td>11</td>\n",
       "    </tr>\n",
       "    <tr>\n",
       "      <th>11</th>\n",
       "      <td>CONCLUSIONS</td>\n",
       "      <td>low-dose oral prednisolone had both a short-te...</td>\n",
       "      <td>11</td>\n",
       "      <td>11</td>\n",
       "    </tr>\n",
       "    <tr>\n",
       "      <th>12</th>\n",
       "      <td>BACKGROUND</td>\n",
       "      <td>emotional eating is associated with overeating...</td>\n",
       "      <td>0</td>\n",
       "      <td>10</td>\n",
       "    </tr>\n",
       "    <tr>\n",
       "      <th>13</th>\n",
       "      <td>BACKGROUND</td>\n",
       "      <td>yet , empirical evidence for individual ( trai...</td>\n",
       "      <td>1</td>\n",
       "      <td>10</td>\n",
       "    </tr>\n",
       "  </tbody>\n",
       "</table>\n",
       "</div>"
      ],
      "text/plain": [
       "         target                                               text  \\\n",
       "0     OBJECTIVE  to investigate the efficacy of @ weeks of dail...   \n",
       "1       METHODS  a total of @ patients with primary knee oa wer...   \n",
       "2       METHODS  outcome measures included pain reduction and i...   \n",
       "3       METHODS  pain was assessed using the visual analog pain...   \n",
       "4       METHODS  secondary outcome measures included the wester...   \n",
       "5       METHODS  serum levels of interleukin @ ( il-@ ) , il-@ ...   \n",
       "6       RESULTS  there was a clinically relevant reduction in t...   \n",
       "7       RESULTS  the mean difference between treatment arms ( @...   \n",
       "8       RESULTS  further , there was a clinically relevant redu...   \n",
       "9       RESULTS  these differences remained significant at @ we...   \n",
       "10      RESULTS  the outcome measures in rheumatology clinical ...   \n",
       "11  CONCLUSIONS  low-dose oral prednisolone had both a short-te...   \n",
       "12   BACKGROUND  emotional eating is associated with overeating...   \n",
       "13   BACKGROUND  yet , empirical evidence for individual ( trai...   \n",
       "\n",
       "    line_number  total_lines  \n",
       "0             0           11  \n",
       "1             1           11  \n",
       "2             2           11  \n",
       "3             3           11  \n",
       "4             4           11  \n",
       "5             5           11  \n",
       "6             6           11  \n",
       "7             7           11  \n",
       "8             8           11  \n",
       "9             9           11  \n",
       "10           10           11  \n",
       "11           11           11  \n",
       "12            0           10  \n",
       "13            1           10  "
      ]
     },
     "execution_count": 9,
     "metadata": {},
     "output_type": "execute_result"
    }
   ],
   "source": [
    "import pandas as pd\n",
    "train_df = pd.DataFrame(train_samples)\n",
    "val_df = pd.DataFrame(val_samples)\n",
    "test_df = pd.DataFrame(test_samples)\n",
    "train_df.head(14)"
   ]
  },
  {
   "cell_type": "code",
   "execution_count": 10,
   "id": "81c2b24b-2eb9-4f87-913d-b3e0059bee3f",
   "metadata": {},
   "outputs": [
    {
     "data": {
      "text/plain": [
       "target\n",
       "METHODS        59353\n",
       "RESULTS        57953\n",
       "CONCLUSIONS    27168\n",
       "BACKGROUND     21727\n",
       "OBJECTIVE      13839\n",
       "Name: count, dtype: int64"
      ]
     },
     "execution_count": 10,
     "metadata": {},
     "output_type": "execute_result"
    }
   ],
   "source": [
    "#Distribution of labels\n",
    "train_df.target.value_counts()"
   ]
  },
  {
   "cell_type": "code",
   "execution_count": 11,
   "id": "97fa1087-9de8-472e-93f2-0990932fb457",
   "metadata": {},
   "outputs": [
    {
     "data": {
      "text/plain": [
       "<Axes: ylabel='Frequency'>"
      ]
     },
     "execution_count": 11,
     "metadata": {},
     "output_type": "execute_result"
    },
    {
     "data": {
      "image/png": "[encoded data removed]",
      "text/plain": [
       "<Figure size 640x480 with 1 Axes>"
      ]
     },
     "metadata": {},
     "output_type": "display_data"
    }
   ],
   "source": [
    "# What about the length of different lines?\n",
    "train_df.total_lines.plot.hist()"
   ]
  },
  {
   "cell_type": "markdown",
   "id": "58a9f0de-a95a-422b-aa31-140d327ba4b8",
   "metadata": {},
   "source": [
    "### Get lists of sentences"
   ]
  },
  {
   "cell_type": "code",
   "execution_count": 12,
   "id": "dad7dda7-eac0-439f-b49d-bddead4f4d2e",
   "metadata": {},
   "outputs": [
    {
     "data": {
      "text/plain": [
       "(180040, 30212, 30135)"
      ]
     },
     "execution_count": 12,
     "metadata": {},
     "output_type": "execute_result"
    }
   ],
   "source": [
    "# Convert abstracts to lists\n",
    "train_sentences = train_df['text'].tolist()\n",
    "val_sentences = val_df['text'].tolist()\n",
    "test_sentences = test_df['text'].tolist()\n",
    "len(train_sentences), len(val_sentences), len(test_sentences)"
   ]
  },
  {
   "cell_type": "code",
   "execution_count": 13,
   "id": "827c5bff-9e7f-40f7-a256-9489d00e7ef6",
   "metadata": {},
   "outputs": [
    {
     "data": {
      "text/plain": [
       "['to investigate the efficacy of @ weeks of daily low-dose oral prednisolone in improving pain , mobility , and systemic low-grade inflammation in the short term and whether the effect would be sustained at @ weeks in older adults with moderate to severe knee osteoarthritis ( oa ) .',\n",
       " 'a total of @ patients with primary knee oa were randomized @:@ ; @ received @ mg/day of prednisolone and @ received placebo for @ weeks .',\n",
       " 'outcome measures included pain reduction and improvement in function scores and systemic inflammation markers .',\n",
       " 'pain was assessed using the visual analog pain scale ( @-@ mm ) .',\n",
       " 'secondary outcome measures included the western ontario and mcmaster universities osteoarthritis index scores , patient global assessment ( pga ) of the severity of knee oa , and @-min walk distance ( @mwd ) .',\n",
       " 'serum levels of interleukin @ ( il-@ ) , il-@ , tumor necrosis factor ( tnf ) - , and high-sensitivity c-reactive protein ( hscrp ) were measured .',\n",
       " 'there was a clinically relevant reduction in the intervention group compared to the placebo group for knee pain , physical function , pga , and @mwd at @ weeks .',\n",
       " 'the mean difference between treatment arms ( @ % ci ) was @ ( @-@ @ ) , p < @ ; @ ( @-@ @ ) , p < @ ; @ ( @-@ @ ) , p < @ ; and @ ( @-@ @ ) , p < @ , respectively .',\n",
       " 'further , there was a clinically relevant reduction in the serum levels of il-@ , il-@ , tnf - , and hscrp at @ weeks in the intervention group when compared to the placebo group .',\n",
       " 'these differences remained significant at @ weeks .']"
      ]
     },
     "execution_count": 13,
     "metadata": {},
     "output_type": "execute_result"
    }
   ],
   "source": [
    "train_sentences[:10]"
   ]
  },
  {
   "cell_type": "markdown",
   "id": "144e353e-c3c7-41fa-8f01-bd9dc82fbd10",
   "metadata": {},
   "source": [
    "## Make our Data Labels numeric"
   ]
  },
  {
   "cell_type": "code",
   "execution_count": 14,
   "id": "97866e23-4a89-4cae-9c4f-2193105e3c68",
   "metadata": {},
   "outputs": [
    {
     "name": "stderr",
     "output_type": "stream",
     "text": [
      "/opt/anaconda3/lib/python3.11/site-packages/sklearn/preprocessing/_encoders.py:868: FutureWarning: `sparse` was renamed to `sparse_output` in version 1.2 and will be removed in 1.4. `sparse_output` is ignored unless you leave `sparse` to its default value.\n",
      "  warnings.warn(\n"
     ]
    },
    {
     "data": {
      "text/plain": [
       "array([[0., 0., 0., 1., 0.],\n",
       "       [0., 0., 1., 0., 0.],\n",
       "       [0., 0., 1., 0., 0.],\n",
       "       ...,\n",
       "       [0., 0., 0., 0., 1.],\n",
       "       [0., 1., 0., 0., 0.],\n",
       "       [0., 1., 0., 0., 0.]])"
      ]
     },
     "execution_count": 14,
     "metadata": {},
     "output_type": "execute_result"
    }
   ],
   "source": [
    "# One hot encode labels\n",
    "from sklearn.preprocessing import OneHotEncoder\n",
    "one_hot_encoder = OneHotEncoder(sparse=False)\n",
    "train_labels_one_hot = one_hot_encoder.fit_transform(train_df['target'].to_numpy().reshape(-1,1))\n",
    "val_labels_one_hot = one_hot_encoder.transform(val_df['target'].to_numpy().reshape(-1,1))\n",
    "test_labels_one_hot = one_hot_encoder.transform(test_df['target'].to_numpy().reshape(-1,1))\n",
    "\n",
    "train_labels_one_hot"
   ]
  },
  {
   "cell_type": "code",
   "execution_count": 15,
   "id": "d62302d6-4632-4ee9-afb7-5539800e2c51",
   "metadata": {},
   "outputs": [
    {
     "data": {
      "text/plain": [
       "array([3, 2, 2, ..., 4, 1, 1])"
      ]
     },
     "execution_count": 15,
     "metadata": {},
     "output_type": "execute_result"
    }
   ],
   "source": [
    "# Label encode labels\n",
    "from sklearn.preprocessing import LabelEncoder\n",
    "label_encoder = LabelEncoder()\n",
    "train_labels_encoded = label_encoder.fit_transform(train_df['target'].to_numpy())\n",
    "val_labels_encoded = label_encoder.transform(val_df['target'].to_numpy())\n",
    "test_labels_encoded = label_encoder.transform(test_df['target'].to_numpy())\n",
    "\n",
    "train_labels_encoded"
   ]
  },
  {
   "cell_type": "code",
   "execution_count": 16,
   "id": "ec96faf1-c196-4642-80e5-41b02bf04dd1",
   "metadata": {},
   "outputs": [
    {
     "data": {
      "text/plain": [
       "(5,\n",
       " array(['BACKGROUND', 'CONCLUSIONS', 'METHODS', 'OBJECTIVE', 'RESULTS'],\n",
       "       dtype=object))"
      ]
     },
     "execution_count": 16,
     "metadata": {},
     "output_type": "execute_result"
    }
   ],
   "source": [
    "#Get Class names and number of classes from the Label Encoder\n",
    "num_classes = len(label_encoder.classes_)\n",
    "class_names = label_encoder.classes_\n",
    "num_classes, class_names"
   ]
  },
  {
   "cell_type": "markdown",
   "id": "24392922-5833-401a-9346-4f719fdfefcb",
   "metadata": {},
   "source": [
    "## Model Building Experiments\n",
    "\n",
    "What will we be building?\n",
    "\n",
    "* Baseline: Naive Bayes with TF-IDF encoder\n",
    "1. Conv1D with token embeddings\n",
    "2. TensorFlow Hub Pretrained Feature Extractor\n",
    "3. Conv1D with character embeddings\n",
    "4. Pretrained token embeddings (same as 2) + character embeddings (same as 3)\n",
    "5. Pretrained token embeddings + character embeddings + positional embeddings"
   ]
  },
  {
   "cell_type": "markdown",
   "id": "16bbf115-18c2-453b-83f4-4b38ed856143",
   "metadata": {},
   "source": [
    "### Baseline Model"
   ]
  },
  {
   "cell_type": "code",
   "execution_count": 17,
   "id": "ef312f78-339f-4839-93ed-7a97e009db73",
   "metadata": {},
   "outputs": [],
   "source": [
    "from sklearn.feature_extraction.text import TfidfVectorizer\n",
    "from sklearn.naive_bayes import MultinomialNB\n",
    "from sklearn.pipeline import Pipeline"
   ]
  },
  {
   "cell_type": "code",
   "execution_count": 18,
   "id": "ff846952-0509-446a-8a8e-5596dd9907e5",
   "metadata": {},
   "outputs": [
    {
     "data": {
      "text/html": [
       "<style>#sk-container-id-1 {color: black;background-color: white;}#sk-container-id-1 pre{padding: 0;}#sk-container-id-1 div.sk-toggleable {background-color: white;}#sk-container-id-1 label.sk-toggleable__label {cursor: pointer;display: block;width: 100%;margin-bottom: 0;padding: 0.3em;box-sizing: border-box;text-align: center;}#sk-container-id-1 label.sk-toggleable__label-arrow:before {content: \"▸\";float: left;margin-right: 0.25em;color: #696969;}#sk-container-id-1 label.sk-toggleable__label-arrow:hover:before {color: black;}#sk-container-id-1 div.sk-estimator:hover label.sk-toggleable__label-arrow:before {color: black;}#sk-container-id-1 div.sk-toggleable__content {max-height: 0;max-width: 0;overflow: hidden;text-align: left;background-color: #f0f8ff;}#sk-container-id-1 div.sk-toggleable__content pre {margin: 0.2em;color: black;border-radius: 0.25em;background-color: #f0f8ff;}#sk-container-id-1 input.sk-toggleable__control:checked~div.sk-toggleable__content {max-height: 200px;max-width: 100%;overflow: auto;}#sk-container-id-1 input.sk-toggleable__control:checked~label.sk-toggleable__label-arrow:before {content: \"▾\";}#sk-container-id-1 div.sk-estimator input.sk-toggleable__control:checked~label.sk-toggleable__label {background-color: #d4ebff;}#sk-container-id-1 div.sk-label input.sk-toggleable__control:checked~label.sk-toggleable__label {background-color: #d4ebff;}#sk-container-id-1 input.sk-hidden--visually {border: 0;clip: rect(1px 1px 1px 1px);clip: rect(1px, 1px, 1px, 1px);height: 1px;margin: -1px;overflow: hidden;padding: 0;position: absolute;width: 1px;}#sk-container-id-1 div.sk-estimator {font-family: monospace;background-color: #f0f8ff;border: 1px dotted black;border-radius: 0.25em;box-sizing: border-box;margin-bottom: 0.5em;}#sk-container-id-1 div.sk-estimator:hover {background-color: #d4ebff;}#sk-container-id-1 div.sk-parallel-item::after {content: \"\";width: 100%;border-bottom: 1px solid gray;flex-grow: 1;}#sk-container-id-1 div.sk-label:hover label.sk-toggleable__label {background-color: #d4ebff;}#sk-container-id-1 div.sk-serial::before {content: \"\";position: absolute;border-left: 1px solid gray;box-sizing: border-box;top: 0;bottom: 0;left: 50%;z-index: 0;}#sk-container-id-1 div.sk-serial {display: flex;flex-direction: column;align-items: center;background-color: white;padding-right: 0.2em;padding-left: 0.2em;position: relative;}#sk-container-id-1 div.sk-item {position: relative;z-index: 1;}#sk-container-id-1 div.sk-parallel {display: flex;align-items: stretch;justify-content: center;background-color: white;position: relative;}#sk-container-id-1 div.sk-item::before, #sk-container-id-1 div.sk-parallel-item::before {content: \"\";position: absolute;border-left: 1px solid gray;box-sizing: border-box;top: 0;bottom: 0;left: 50%;z-index: -1;}#sk-container-id-1 div.sk-parallel-item {display: flex;flex-direction: column;z-index: 1;position: relative;background-color: white;}#sk-container-id-1 div.sk-parallel-item:first-child::after {align-self: flex-end;width: 50%;}#sk-container-id-1 div.sk-parallel-item:last-child::after {align-self: flex-start;width: 50%;}#sk-container-id-1 div.sk-parallel-item:only-child::after {width: 0;}#sk-container-id-1 div.sk-dashed-wrapped {border: 1px dashed gray;margin: 0 0.4em 0.5em 0.4em;box-sizing: border-box;padding-bottom: 0.4em;background-color: white;}#sk-container-id-1 div.sk-label label {font-family: monospace;font-weight: bold;display: inline-block;line-height: 1.2em;}#sk-container-id-1 div.sk-label-container {text-align: center;}#sk-container-id-1 div.sk-container {/* jupyter's `normalize.less` sets `[hidden] { display: none; }` but bootstrap.min.css set `[hidden] { display: none !important; }` so we also need the `!important` here to be able to override the default hidden behavior on the sphinx rendered scikit-learn.org. See: https://github.com/scikit-learn/scikit-learn/issues/21755 */display: inline-block !important;position: relative;}#sk-container-id-1 div.sk-text-repr-fallback {display: none;}</style><div id=\"sk-container-id-1\" class=\"sk-top-container\"><div class=\"sk-text-repr-fallback\"><pre>Pipeline(steps=[(&#x27;tfidf&#x27;, TfidfVectorizer()), (&#x27;clf&#x27;, MultinomialNB())])</pre><b>In a Jupyter environment, please rerun this cell to show the HTML representation or trust the notebook. <br />On GitHub, the HTML representation is unable to render, please try loading this page with nbviewer.org.</b></div><div class=\"sk-container\" hidden><div class=\"sk-item sk-dashed-wrapped\"><div class=\"sk-label-container\"><div class=\"sk-label sk-toggleable\"><input class=\"sk-toggleable__control sk-hidden--visually\" id=\"sk-estimator-id-1\" type=\"checkbox\" ><label for=\"sk-estimator-id-1\" class=\"sk-toggleable__label sk-toggleable__label-arrow\">Pipeline</label><div class=\"sk-toggleable__content\"><pre>Pipeline(steps=[(&#x27;tfidf&#x27;, TfidfVectorizer()), (&#x27;clf&#x27;, MultinomialNB())])</pre></div></div></div><div class=\"sk-serial\"><div class=\"sk-item\"><div class=\"sk-estimator sk-toggleable\"><input class=\"sk-toggleable__control sk-hidden--visually\" id=\"sk-estimator-id-2\" type=\"checkbox\" ><label for=\"sk-estimator-id-2\" class=\"sk-toggleable__label sk-toggleable__label-arrow\">TfidfVectorizer</label><div class=\"sk-toggleable__content\"><pre>TfidfVectorizer()</pre></div></div></div><div class=\"sk-item\"><div class=\"sk-estimator sk-toggleable\"><input class=\"sk-toggleable__control sk-hidden--visually\" id=\"sk-estimator-id-3\" type=\"checkbox\" ><label for=\"sk-estimator-id-3\" class=\"sk-toggleable__label sk-toggleable__label-arrow\">MultinomialNB</label><div class=\"sk-toggleable__content\"><pre>MultinomialNB()</pre></div></div></div></div></div></div></div>"
      ],
      "text/plain": [
       "Pipeline(steps=[('tfidf', TfidfVectorizer()), ('clf', MultinomialNB())])"
      ]
     },
     "execution_count": 18,
     "metadata": {},
     "output_type": "execute_result"
    }
   ],
   "source": [
    "baseline = Pipeline([\n",
    "    ('tfidf', TfidfVectorizer()),\n",
    "    ('clf', MultinomialNB())\n",
    "])\n",
    "\n",
    "baseline.fit(train_sentences, train_labels_encoded)"
   ]
  },
  {
   "cell_type": "code",
   "execution_count": 19,
   "id": "ee71864d-bf12-48d5-b47f-cc24669daf2b",
   "metadata": {},
   "outputs": [
    {
     "name": "stdout",
     "output_type": "stream",
     "text": [
      "Baseline Model Achieves an Accuracy Score of:  72.18%\n"
     ]
    }
   ],
   "source": [
    "baseline_score = baseline.score(val_sentences, val_labels_encoded)\n",
    "print(f'Baseline Model Achieves an Accuracy Score of: {baseline_score*100: .2f}%')"
   ]
  },
  {
   "cell_type": "code",
   "execution_count": 20,
   "id": "d982e7bd-082c-405d-b386-fb5b67ab65ca",
   "metadata": {},
   "outputs": [
    {
     "data": {
      "text/plain": [
       "array([4, 1, 3, ..., 4, 4, 1])"
      ]
     },
     "execution_count": 20,
     "metadata": {},
     "output_type": "execute_result"
    }
   ],
   "source": [
    "# Make predictions using the baseline model\n",
    "baseline_preds = baseline.predict(val_sentences)\n",
    "baseline_preds"
   ]
  },
  {
   "cell_type": "code",
   "execution_count": 21,
   "id": "567bdb7a-74e7-49f8-a55a-bc3b9deebcf8",
   "metadata": {},
   "outputs": [
    {
     "name": "stdout",
     "output_type": "stream",
     "text": [
      "              precision    recall  f1-score   support\n",
      "\n",
      "           0       0.66      0.49      0.56      3449\n",
      "           1       0.65      0.59      0.61      4582\n",
      "           2       0.72      0.87      0.79      9964\n",
      "           3       0.75      0.14      0.23      2376\n",
      "           4       0.76      0.86      0.81      9841\n",
      "\n",
      "    accuracy                           0.72     30212\n",
      "   macro avg       0.71      0.59      0.60     30212\n",
      "weighted avg       0.72      0.72      0.70     30212\n",
      "\n"
     ]
    }
   ],
   "source": [
    "from sklearn.metrics import classification_report\n",
    "print(classification_report(val_labels_encoded, baseline_preds))"
   ]
  },
  {
   "cell_type": "markdown",
   "id": "2fc17bf9-881a-4af5-959d-ea8ec36d8f34",
   "metadata": {},
   "source": [
    "### Tokenize the text then turn it into an embedding"
   ]
  },
  {
   "cell_type": "markdown",
   "id": "d8c74b58-27f9-46b3-ac45-85a392c2c66a",
   "metadata": {},
   "source": [
    "**Tokenization**"
   ]
  },
  {
   "cell_type": "code",
   "execution_count": 17,
   "id": "92e6d83b-1810-4bd5-acd3-fce04b8979a3",
   "metadata": {},
   "outputs": [
    {
     "name": "stdout",
     "output_type": "stream",
     "text": [
      "4741942\n",
      "26\n"
     ]
    }
   ],
   "source": [
    "import tensorflow as tf\n",
    "from tensorflow.keras.layers.experimental.preprocessing import TextVectorization\n",
    "import numpy as np\n",
    "\n",
    "#length of all sentences\n",
    "total = round(sum([len(i.split()) for i in train_sentences]))\n",
    "print(total)\n",
    "\n",
    "#average length of sentences\n",
    "average_len = round(total/len(train_sentences))\n",
    "print(average_len)"
   ]
  },
  {
   "cell_type": "code",
   "execution_count": 18,
   "id": "eb17e850-a2f6-4263-aa53-dc853634c47f",
   "metadata": {},
   "outputs": [
    {
     "data": {
      "text/plain": [
       "55"
      ]
     },
     "execution_count": 18,
     "metadata": {},
     "output_type": "execute_result"
    }
   ],
   "source": [
    "sen_lens = [len(sentence.split()) for sentence in train_sentences]\n",
    "\n",
    "#What number covers 95% of our data?\n",
    "output_seq_len = int(np.percentile(sen_lens, 95))\n",
    "output_seq_len"
   ]
  },
  {
   "cell_type": "code",
   "execution_count": 19,
   "id": "74db00e7-4aca-44ca-899c-15ecf918d4cb",
   "metadata": {},
   "outputs": [],
   "source": [
    "max_vocab_len = 68000 #From table 2 in the paper: https://arxiv.org/abs/1710.06071\n",
    "max_len = 55\n",
    "\n",
    "text_vectorizer = TextVectorization(\n",
    "    max_tokens=max_vocab_len,\n",
    "    output_sequence_length=max_len\n",
    ")"
   ]
  },
  {
   "cell_type": "code",
   "execution_count": 20,
   "id": "8fc19077-a761-4901-8f64-f0c2be31b220",
   "metadata": {},
   "outputs": [],
   "source": [
    "text_vectorizer.adapt(train_sentences)"
   ]
  },
  {
   "cell_type": "code",
   "execution_count": 21,
   "id": "935f9f9b-2287-4bf6-941d-64c4db18a8b6",
   "metadata": {},
   "outputs": [
    {
     "name": "stdout",
     "output_type": "stream",
     "text": [
      "Original Sentence:\n",
      " patients expressing h@ received a @-week induction course of intravesical bc-@ .\n",
      "\n",
      "Vectorized Version:\n"
     ]
    },
    {
     "data": {
      "text/plain": [
       "<tf.Tensor: shape=(55,), dtype=int64, numpy=\n",
       "array([   12,  6296,   196,    80,     8,    89,   778,   656,     4,\n",
       "       12058,  3639,     0,     0,     0,     0,     0,     0,     0,\n",
       "           0,     0,     0,     0,     0,     0,     0,     0,     0,\n",
       "           0,     0,     0,     0,     0,     0,     0,     0,     0,\n",
       "           0,     0,     0,     0,     0,     0,     0,     0,     0,\n",
       "           0,     0,     0,     0,     0,     0,     0,     0,     0,\n",
       "           0])>"
      ]
     },
     "execution_count": 21,
     "metadata": {},
     "output_type": "execute_result"
    }
   ],
   "source": [
    "#Display random sentence being vectorized\n",
    "import random\n",
    "\n",
    "random_sentence = random.choice(train_sentences)\n",
    "print(f'Original Sentence:\\n {random_sentence}\\n\\nVectorized Version:')\n",
    "text_vectorizer(random_sentence)"
   ]
  },
  {
   "cell_type": "code",
   "execution_count": 22,
   "id": "b1ccc0b1-dad9-48a3-bd50-b5d79eaa52de",
   "metadata": {},
   "outputs": [
    {
     "name": "stdout",
     "output_type": "stream",
     "text": [
      "Number of words in vocab: 64841\n",
      "5 most common words: ['', '[UNK]', 'the', 'and', 'of', 'in', 'to', 'with', 'a', 'were']\n",
      "5 least common words: ['aarm', 'aaqol', 'aaq', 'aanhui', 'aana', 'aainduced', 'aaigroup', 'aachener', 'aachen', 'aaacp']\n"
     ]
    }
   ],
   "source": [
    "words_in_vocab = text_vectorizer.get_vocabulary()\n",
    "top_10_words = words_in_vocab[:10]\n",
    "bottom_10_words = words_in_vocab[-10:]\n",
    "\n",
    "print(f'Number of words in vocab: {len(words_in_vocab)}')\n",
    "print(f'5 most common words: {top_10_words}')\n",
    "print(f'5 least common words: {bottom_10_words}')"
   ]
  },
  {
   "cell_type": "markdown",
   "id": "542bf6cc-9d49-4dba-9e03-d6e2d69d8d46",
   "metadata": {},
   "source": [
    "**Embedding**"
   ]
  },
  {
   "cell_type": "code",
   "execution_count": 23,
   "id": "da4623b7-ab7d-4a32-9d6e-9b4cc5836c46",
   "metadata": {},
   "outputs": [
    {
     "data": {
      "text/plain": [
       "<keras.src.layers.core.embedding.Embedding at 0x28a93c590>"
      ]
     },
     "execution_count": 23,
     "metadata": {},
     "output_type": "execute_result"
    }
   ],
   "source": [
    "from tensorflow.keras.layers import Embedding\n",
    "\n",
    "embedding = Embedding(input_dim=max_vocab_len, output_dim=128, mask_zero=True)\n",
    "\n",
    "embedding"
   ]
  },
  {
   "cell_type": "code",
   "execution_count": 24,
   "id": "ea1cfa62-eae6-4c5b-9744-595a8de3d084",
   "metadata": {},
   "outputs": [
    {
     "name": "stdout",
     "output_type": "stream",
     "text": [
      "Original Sentence:\n",
      " adherence to ex was determined from exercise logs , ambulatory heart rate recordings of exercise , and weekly telephone contacts .\n",
      "\n",
      "Vectorized Version:\n",
      "tf.Tensor(\n",
      "[  429     6  3482    10   505    27   177 22648  1733   260    78  3870\n",
      "     4   177     3   632  1032  4546     0     0     0     0     0     0\n",
      "     0     0     0     0     0     0     0     0     0     0     0     0\n",
      "     0     0     0     0     0     0     0     0     0     0     0     0\n",
      "     0     0     0     0     0     0     0], shape=(55,), dtype=int64)\n",
      "\n",
      "Embedding Version:\n"
     ]
    },
    {
     "data": {
      "text/plain": [
       "<tf.Tensor: shape=(55, 128), dtype=float32, numpy=\n",
       "array([[-0.01426382,  0.02036412,  0.02916726, ..., -0.04192965,\n",
       "        -0.04415173,  0.02262126],\n",
       "       [-0.01937443, -0.04639683, -0.03277738, ...,  0.0319826 ,\n",
       "         0.02556853, -0.03052617],\n",
       "       [ 0.04853087, -0.00911927, -0.01224303, ...,  0.02849119,\n",
       "        -0.04674739, -0.04735545],\n",
       "       ...,\n",
       "       [ 0.03789096, -0.04744036, -0.0081799 , ..., -0.04134857,\n",
       "         0.04950932, -0.04803448],\n",
       "       [ 0.03789096, -0.04744036, -0.0081799 , ..., -0.04134857,\n",
       "         0.04950932, -0.04803448],\n",
       "       [ 0.03789096, -0.04744036, -0.0081799 , ..., -0.04134857,\n",
       "         0.04950932, -0.04803448]], dtype=float32)>"
      ]
     },
     "execution_count": 24,
     "metadata": {},
     "output_type": "execute_result"
    }
   ],
   "source": [
    "random_sentence = random.choice(train_sentences)\n",
    "print(f'Original Sentence:\\n {random_sentence}\\n\\nVectorized Version:')\n",
    "print(text_vectorizer(random_sentence))\n",
    "print(f'\\nEmbedding Version:')\n",
    "embedding(text_vectorizer(random_sentence))"
   ]
  },
  {
   "cell_type": "markdown",
   "id": "d438ed98-4b18-43b4-b837-1a6851010021",
   "metadata": {},
   "source": [
    "### Conv1D with token embeddings"
   ]
  },
  {
   "cell_type": "code",
   "execution_count": 29,
   "id": "eb838eef-b602-496b-b7c7-dcb1a1d2334c",
   "metadata": {},
   "outputs": [
    {
     "name": "stdout",
     "output_type": "stream",
     "text": [
      "Model: \"model\"\n",
      "_________________________________________________________________\n",
      " Layer (type)                Output Shape              Param #   \n",
      "=================================================================\n",
      " input_1 (InputLayer)        [(None, 1)]               0         \n",
      "                                                                 \n",
      " text_vectorization (TextVe  (None, 55)                0         \n",
      " ctorization)                                                    \n",
      "                                                                 \n",
      " embedding (Embedding)       (None, 55, 128)           8704000   \n",
      "                                                                 \n",
      " conv1d (Conv1D)             (None, 55, 128)           82048     \n",
      "                                                                 \n",
      " global_average_pooling1d (  (None, 128)               0         \n",
      " GlobalAveragePooling1D)                                         \n",
      "                                                                 \n",
      " dense (Dense)               (None, 128)               16512     \n",
      "                                                                 \n",
      " dropout (Dropout)           (None, 128)               0         \n",
      "                                                                 \n",
      " dense_1 (Dense)             (None, 5)                 645       \n",
      "                                                                 \n",
      "=================================================================\n",
      "Total params: 8803205 (33.58 MB)\n",
      "Trainable params: 8803205 (33.58 MB)\n",
      "Non-trainable params: 0 (0.00 Byte)\n",
      "_________________________________________________________________\n"
     ]
    }
   ],
   "source": [
    "from tensorflow.keras.layers import Conv1D, Input, GlobalAveragePooling1D, Dense\n",
    "\n",
    "inputs = Input(shape=(1,), dtype='string')\n",
    "x = text_vectorizer(inputs)\n",
    "x = embedding(x)\n",
    "x = Conv1D(128, 5, padding='same', activation='relu')(x)\n",
    "x = GlobalAveragePooling1D()(x)\n",
    "x = Dense(128, activation='relu')(x)\n",
    "x = tf.keras.layers.Dropout(0.2)(x)\n",
    "outputs = Dense(5, activation='sigmoid')(x)\n",
    "\n",
    "model_1 = tf.keras.Model(inputs, outputs)\n",
    "model_1.summary()"
   ]
  },
  {
   "cell_type": "code",
   "execution_count": 31,
   "id": "b897e1b9-d891-4f3c-91c1-2e13eb0dd735",
   "metadata": {},
   "outputs": [],
   "source": [
    "model_1.compile(loss='categorical_crossentropy', metrics=['accuracy'], optimizer = tf.keras.optimizers.legacy.Adam())"
   ]
  },
  {
   "cell_type": "code",
   "execution_count": 82,
   "id": "d5bb10ff-8cc2-46fb-b044-cbe049a7c376",
   "metadata": {},
   "outputs": [
    {
     "name": "stdout",
     "output_type": "stream",
     "text": [
      "Epoch 1/5\n",
      "5627/5627 [==============================] - 98s 17ms/step - loss: 0.3999 - accuracy: 0.8576 - val_loss: 0.5248 - val_accuracy: 0.8113\n",
      "Epoch 2/5\n",
      "5627/5627 [==============================] - 97s 17ms/step - loss: 0.2315 - accuracy: 0.9208 - val_loss: 0.6054 - val_accuracy: 0.8009\n",
      "Epoch 3/5\n",
      "5627/5627 [==============================] - 98s 17ms/step - loss: 0.1480 - accuracy: 0.9498 - val_loss: 0.7671 - val_accuracy: 0.8024\n",
      "Epoch 4/5\n",
      "5627/5627 [==============================] - 98s 17ms/step - loss: 0.0972 - accuracy: 0.9669 - val_loss: 0.9378 - val_accuracy: 0.7932\n",
      "Epoch 5/5\n",
      "5627/5627 [==============================] - 98s 17ms/step - loss: 0.0682 - accuracy: 0.9773 - val_loss: 1.1284 - val_accuracy: 0.7898\n"
     ]
    }
   ],
   "source": [
    "tf.random.set_seed(42)\n",
    "\n",
    "history_1 = model_1.fit(tf.constant(train_sentences), train_labels_one_hot, epochs=5, validation_data=(tf.constant(val_sentences), val_labels_one_hot))"
   ]
  },
  {
   "cell_type": "code",
   "execution_count": 84,
   "id": "124594a3-45fc-4ac9-a208-caac4ee8ec8e",
   "metadata": {},
   "outputs": [
    {
     "name": "stdout",
     "output_type": "stream",
     "text": [
      "945/945 [==============================] - 2s 2ms/step\n"
     ]
    },
    {
     "data": {
      "text/plain": [
       "array([[9.8338521e-01, 2.6746831e-04, 5.1329040e-04, 1.3138378e-01,\n",
       "        5.2410714e-06],\n",
       "       [9.2729902e-01, 8.2772508e-02, 1.0133986e-03, 9.7349119e-01,\n",
       "        1.1072864e-04],\n",
       "       [3.8090047e-01, 1.3743627e-02, 1.5272902e-04, 9.9992269e-01,\n",
       "        3.4228504e-09],\n",
       "       ...,\n",
       "       [4.6881472e-09, 4.7641242e-05, 3.8779062e-01, 7.6289466e-06,\n",
       "        9.9980676e-01],\n",
       "       [6.3490275e-05, 9.9676037e-01, 1.4555639e-03, 2.1394916e-04,\n",
       "        3.4733970e-02],\n",
       "       [6.0555412e-05, 9.9991530e-01, 1.7508217e-05, 2.9306232e-06,\n",
       "        2.0587355e-02]], dtype=float32)"
      ]
     },
     "execution_count": 84,
     "metadata": {},
     "output_type": "execute_result"
    }
   ],
   "source": [
    "model_pred_probs = model_1.predict(tf.constant(val_sentences))\n",
    "model_pred_probs"
   ]
  },
  {
   "cell_type": "code",
   "execution_count": 85,
   "id": "eb499ecd-e3d8-4dff-81f6-2125b9f42f33",
   "metadata": {},
   "outputs": [
    {
     "data": {
      "text/plain": [
       "<tf.Tensor: shape=(30212,), dtype=int64, numpy=array([0, 3, 3, ..., 4, 1, 1])>"
      ]
     },
     "execution_count": 85,
     "metadata": {},
     "output_type": "execute_result"
    }
   ],
   "source": [
    "model_1_preds = tf.argmax(model_pred_probs, axis=1)\n",
    "model_1_preds"
   ]
  },
  {
   "cell_type": "code",
   "execution_count": 86,
   "id": "ba1f2680-be9d-4041-a38d-80d51a20a29f",
   "metadata": {},
   "outputs": [
    {
     "name": "stdout",
     "output_type": "stream",
     "text": [
      "              precision    recall  f1-score   support\n",
      "\n",
      "           0       0.60      0.58      0.59      3449\n",
      "           1       0.75      0.66      0.70      4582\n",
      "           2       0.86      0.91      0.88      9964\n",
      "           3       0.54      0.61      0.57      2376\n",
      "           4       0.87      0.85      0.86      9841\n",
      "\n",
      "    accuracy                           0.79     30212\n",
      "   macro avg       0.72      0.72      0.72     30212\n",
      "weighted avg       0.79      0.79      0.79     30212\n",
      "\n"
     ]
    }
   ],
   "source": [
    "print(classification_report(val_labels_encoded, model_1_preds))"
   ]
  },
  {
   "cell_type": "markdown",
   "id": "b3fd35f9-ab2b-4cd3-b595-903b50ec41e0",
   "metadata": {},
   "source": [
    "## Tensorflow Hub Pretrained Feature Extractor"
   ]
  },
  {
   "cell_type": "code",
   "execution_count": 25,
   "id": "a74f57ec-6e7b-4459-8ddb-fad1eb80b75a",
   "metadata": {},
   "outputs": [],
   "source": [
    "import tensorflow_hub as hub\n",
    "encoding_layer = hub.KerasLayer('https://www.kaggle.com/models/google/universal-sentence-encoder/frameworks/TensorFlow2/variations/universal-sentence-encoder/versions/2',\n",
    "                               trainable=False,\n",
    "                               name='universal_sentence_encoder')"
   ]
  },
  {
   "cell_type": "code",
   "execution_count": 26,
   "id": "1b8e87f8-0ca9-4e23-b3ec-1f0e335175d0",
   "metadata": {},
   "outputs": [
    {
     "name": "stdout",
     "output_type": "stream",
     "text": [
      "Random sentence:\n",
      " in patients reloaded with @ mg prasugrel , cangrelor decreased pri at baseline ( p < @ ) and @ h ( p = @ ) ; levels of platelet reactivity comparable to those achieved with cangrelor were observed only at @ h ( p = @ ) .\n",
      "Sentence after embedding:\n",
      " [-0.03456404  0.02593905  0.01116584 -0.07088917  0.02529511  0.02007595\n",
      "  0.04942955 -0.00417012  0.01064496  0.05844885  0.08611968  0.06412391\n",
      " -0.00724038  0.05962229  0.04867586 -0.02030313 -0.08698953 -0.03696143\n",
      "  0.04124625 -0.02187959 -0.00359988  0.03054407 -0.0029204  -0.01694923\n",
      "  0.04413379  0.00616061  0.0112573   0.0068432  -0.00668528 -0.00056438]\n",
      "\n",
      "Length of sentence embedding: 512\n"
     ]
    }
   ],
   "source": [
    "random_train_sentence = random.choice(train_sentences)\n",
    "print(f'Random sentence:\\n {random_train_sentence}')\n",
    "use_embedded_sentence = encoding_layer([random_train_sentence])\n",
    "print(f'Sentence after embedding:\\n {use_embedded_sentence[0][:30]}\\n')\n",
    "print(f'Length of sentence embedding: {len(use_embedded_sentence[0])}')"
   ]
  },
  {
   "cell_type": "markdown",
   "id": "feff4722-7772-4fb3-b2fc-7dbcc0dfff22",
   "metadata": {},
   "source": [
    "### Build and fit the NLP Feature Extraction model using pretrained embeddings"
   ]
  },
  {
   "cell_type": "code",
   "execution_count": 30,
   "id": "6bc95328-5703-41c9-9221-e4c3459200c2",
   "metadata": {},
   "outputs": [
    {
     "name": "stdout",
     "output_type": "stream",
     "text": [
      "Epoch 1/5\n",
      "5627/5627 [==============================] - 24s 4ms/step - loss: 0.7242 - accuracy: 0.7230 - val_loss: 0.6495 - val_accuracy: 0.7540\n",
      "Epoch 2/5\n",
      "5627/5627 [==============================] - 23s 4ms/step - loss: 0.6301 - accuracy: 0.7612 - val_loss: 0.6135 - val_accuracy: 0.7691\n",
      "Epoch 3/5\n",
      "5627/5627 [==============================] - 24s 4ms/step - loss: 0.5965 - accuracy: 0.7739 - val_loss: 0.5994 - val_accuracy: 0.7726\n",
      "Epoch 4/5\n",
      "5627/5627 [==============================] - 24s 4ms/step - loss: 0.5740 - accuracy: 0.7834 - val_loss: 0.5915 - val_accuracy: 0.7756\n",
      "Epoch 5/5\n",
      "5627/5627 [==============================] - 23s 4ms/step - loss: 0.5570 - accuracy: 0.7896 - val_loss: 0.5924 - val_accuracy: 0.7759\n"
     ]
    }
   ],
   "source": [
    "tf.random.set_seed(42)\n",
    "\n",
    "inputs = Input(shape=[], dtype='string')\n",
    "pretrained_embedding = encoding_layer(inputs) #Tokenizes and embeds \n",
    "x = Dense(128, activation='relu')(pretrained_embedding)\n",
    "outputs = Dense(5, activation='softmax')(x)\n",
    "\n",
    "model_2 = tf.keras.Model(inputs, outputs)\n",
    "\n",
    "model_2.compile(loss='categorical_crossentropy', optimizer = tf.keras.optimizers.legacy.Adam(), metrics=['accuracy'])\n",
    "\n",
    "history_2 = model_2.fit(tf.constant(train_sentences), train_labels_one_hot, epochs=5, validation_data=(tf.constant(val_sentences), val_labels_one_hot))"
   ]
  },
  {
   "cell_type": "code",
   "execution_count": 97,
   "id": "33a8c74e-4f99-414f-8c42-35c783129bc0",
   "metadata": {},
   "outputs": [
    {
     "name": "stdout",
     "output_type": "stream",
     "text": [
      "945/945 [==============================] - 3s 3ms/step\n"
     ]
    },
    {
     "data": {
      "text/plain": [
       "array([[8.4129173e-01, 3.1844303e-02, 1.3627353e-05, 1.2648244e-01,\n",
       "        3.6793938e-04],\n",
       "       [7.1726751e-01, 1.2348766e-01, 2.9094415e-04, 1.5874912e-01,\n",
       "        2.0479868e-04],\n",
       "       [5.6258786e-01, 4.8345183e-03, 3.0350320e-03, 4.2772692e-01,\n",
       "        1.8157085e-03],\n",
       "       ...,\n",
       "       [4.5599323e-04, 1.1547338e-04, 5.2427799e-02, 1.5048681e-04,\n",
       "        9.4685018e-01],\n",
       "       [5.4804634e-02, 1.9047803e-01, 1.6468824e-01, 1.5979268e-02,\n",
       "        5.7404989e-01],\n",
       "       [6.6165058e-03, 9.9250484e-01, 5.3125079e-04, 1.6710943e-05,\n",
       "        3.3078538e-04]], dtype=float32)"
      ]
     },
     "execution_count": 97,
     "metadata": {},
     "output_type": "execute_result"
    }
   ],
   "source": [
    "model_2_pred_probs = model_2.predict(tf.constant(val_sentences))\n",
    "model_2_pred_probs"
   ]
  },
  {
   "cell_type": "code",
   "execution_count": 98,
   "id": "2eb36456-de25-4b09-bcd2-4ce4a19d4561",
   "metadata": {},
   "outputs": [
    {
     "data": {
      "text/plain": [
       "<tf.Tensor: shape=(30212,), dtype=int64, numpy=array([0, 0, 0, ..., 4, 4, 1])>"
      ]
     },
     "execution_count": 98,
     "metadata": {},
     "output_type": "execute_result"
    }
   ],
   "source": [
    "model_2_preds = tf.argmax(model_2_pred_probs, axis=1)\n",
    "model_2_preds"
   ]
  },
  {
   "cell_type": "code",
   "execution_count": 99,
   "id": "5ce18730-36d9-4acf-b564-b408effb1683",
   "metadata": {},
   "outputs": [
    {
     "name": "stdout",
     "output_type": "stream",
     "text": [
      "              precision    recall  f1-score   support\n",
      "\n",
      "           0       0.57      0.67      0.62      3449\n",
      "           1       0.72      0.62      0.66      4582\n",
      "           2       0.84      0.88      0.86      9964\n",
      "           3       0.70      0.49      0.58      2376\n",
      "           4       0.83      0.85      0.84      9841\n",
      "\n",
      "    accuracy                           0.78     30212\n",
      "   macro avg       0.73      0.70      0.71     30212\n",
      "weighted avg       0.77      0.78      0.77     30212\n",
      "\n"
     ]
    }
   ],
   "source": [
    "print(classification_report(val_labels_encoded, model_2_preds))"
   ]
  },
  {
   "cell_type": "markdown",
   "id": "1dcddd79-cb8d-4e38-bb0e-ec746b5ead9e",
   "metadata": {},
   "source": [
    "## Conv1D with Character Embeddings"
   ]
  },
  {
   "cell_type": "markdown",
   "id": "19694e74-4abf-4e8c-8583-d8c4110ae2a8",
   "metadata": {},
   "source": [
    "### Create a character level Tokenizer"
   ]
  },
  {
   "cell_type": "code",
   "execution_count": 31,
   "id": "b44e620e-7b05-4192-a88c-1955ea05f7d5",
   "metadata": {},
   "outputs": [
    {
     "data": {
      "text/plain": [
       "'i n   p a t i e n t s   r e l o a d e d   w i t h   @   m g   p r a s u g r e l   ,   c a n g r e l o r   d e c r e a s e d   p r i   a t   b a s e l i n e   (   p   <   @   )   a n d   @   h   (   p   =   @   )   ;   l e v e l s   o f   p l a t e l e t   r e a c t i v i t y   c o m p a r a b l e   t o   t h o s e   a c h i e v e d   w i t h   c a n g r e l o r   w e r e   o b s e r v e d   o n l y   a t   @   h   (   p   =   @   )   .'"
      ]
     },
     "execution_count": 31,
     "metadata": {},
     "output_type": "execute_result"
    }
   ],
   "source": [
    "def split_chars(text):\n",
    "    return \" \".join(list(text))\n",
    "\n",
    "#Text splitting non-character level sequence into characters\n",
    "split_chars(random_train_sentence)"
   ]
  },
  {
   "cell_type": "code",
   "execution_count": 32,
   "id": "d5695f83-18b6-42d4-a66f-0a348bb33840",
   "metadata": {},
   "outputs": [
    {
     "data": {
      "text/plain": [
       "['t o   i n v e s t i g a t e   t h e   e f f i c a c y   o f   @   w e e k s   o f   d a i l y   l o w - d o s e   o r a l   p r e d n i s o l o n e   i n   i m p r o v i n g   p a i n   ,   m o b i l i t y   ,   a n d   s y s t e m i c   l o w - g r a d e   i n f l a m m a t i o n   i n   t h e   s h o r t   t e r m   a n d   w h e t h e r   t h e   e f f e c t   w o u l d   b e   s u s t a i n e d   a t   @   w e e k s   i n   o l d e r   a d u l t s   w i t h   m o d e r a t e   t o   s e v e r e   k n e e   o s t e o a r t h r i t i s   (   o a   )   .',\n",
       " 'a   t o t a l   o f   @   p a t i e n t s   w i t h   p r i m a r y   k n e e   o a   w e r e   r a n d o m i z e d   @ : @   ;   @   r e c e i v e d   @   m g / d a y   o f   p r e d n i s o l o n e   a n d   @   r e c e i v e d   p l a c e b o   f o r   @   w e e k s   .',\n",
       " 'o u t c o m e   m e a s u r e s   i n c l u d e d   p a i n   r e d u c t i o n   a n d   i m p r o v e m e n t   i n   f u n c t i o n   s c o r e s   a n d   s y s t e m i c   i n f l a m m a t i o n   m a r k e r s   .',\n",
       " 'p a i n   w a s   a s s e s s e d   u s i n g   t h e   v i s u a l   a n a l o g   p a i n   s c a l e   (   @ - @   m m   )   .',\n",
       " 's e c o n d a r y   o u t c o m e   m e a s u r e s   i n c l u d e d   t h e   w e s t e r n   o n t a r i o   a n d   m c m a s t e r   u n i v e r s i t i e s   o s t e o a r t h r i t i s   i n d e x   s c o r e s   ,   p a t i e n t   g l o b a l   a s s e s s m e n t   (   p g a   )   o f   t h e   s e v e r i t y   o f   k n e e   o a   ,   a n d   @ - m i n   w a l k   d i s t a n c e   (   @ m w d   )   .']"
      ]
     },
     "execution_count": 32,
     "metadata": {},
     "output_type": "execute_result"
    }
   ],
   "source": [
    "train_chars = [split_chars(sentence) for sentence in train_sentences]\n",
    "val_chars = [split_chars(sentence) for sentence in val_sentences]\n",
    "test_chars = [split_chars(sentence) for sentence in test_sentences]\n",
    "train_chars[:5]"
   ]
  },
  {
   "cell_type": "code",
   "execution_count": 33,
   "id": "5759028d-2168-44bd-9b5e-6b65701a3247",
   "metadata": {},
   "outputs": [
    {
     "data": {
      "text/plain": [
       "149.3662574983337"
      ]
     },
     "execution_count": 33,
     "metadata": {},
     "output_type": "execute_result"
    }
   ],
   "source": [
    "#Average Character Length\n",
    "chars_lens = [len(sentence) for sentence in train_sentences]\n",
    "mean_char_len = np.mean(chars_lens)\n",
    "mean_char_len"
   ]
  },
  {
   "cell_type": "code",
   "execution_count": 34,
   "id": "5e619f1f-ef8f-4e00-bf02-523f01912a03",
   "metadata": {},
   "outputs": [
    {
     "data": {
      "text/plain": [
       "(array([1.41175e+05, 3.71110e+04, 1.60000e+03, 1.27000e+02, 2.10000e+01,\n",
       "        5.00000e+00, 1.00000e+00]),\n",
       " array([1.00000000e+00, 1.98857143e+02, 3.96714286e+02, 5.94571429e+02,\n",
       "        7.92428571e+02, 9.90285714e+02, 1.18814286e+03, 1.38600000e+03]),\n",
       " <BarContainer object of 7 artists>)"
      ]
     },
     "execution_count": 34,
     "metadata": {},
     "output_type": "execute_result"
    },
    {
     "data": {
      "image/png": "[encoded data removed]",
      "text/plain": [
       "<Figure size 640x480 with 1 Axes>"
      ]
     },
     "metadata": {},
     "output_type": "display_data"
    }
   ],
   "source": [
    "#Check the distribution of our sequence at a character level\n",
    "import matplotlib.pyplot as plt\n",
    "\n",
    "plt.hist(chars_lens, bins=7)"
   ]
  },
  {
   "cell_type": "code",
   "execution_count": 35,
   "id": "28ebe5c4-dbd4-4e69-ac70-5c5fe61171b3",
   "metadata": {},
   "outputs": [
    {
     "data": {
      "text/plain": [
       "290"
      ]
     },
     "execution_count": 35,
     "metadata": {},
     "output_type": "execute_result"
    }
   ],
   "source": [
    "# Find the character length that covers 95% of sequences\n",
    "output_seq_char_len = int(np.percentile(chars_lens, 95))\n",
    "output_seq_char_len"
   ]
  },
  {
   "cell_type": "code",
   "execution_count": 36,
   "id": "2c173346-8df6-4ea9-927d-e3ea6b23490e",
   "metadata": {},
   "outputs": [
    {
     "data": {
      "text/plain": [
       "'abcdefghijklmnopqrstuvwxyz0123456789!\"#$%&\\'()*+,-./:;<=>?@[\\\\]^_`{|}~'"
      ]
     },
     "execution_count": 36,
     "metadata": {},
     "output_type": "execute_result"
    }
   ],
   "source": [
    "#Get all keyboard characters\n",
    "import string\n",
    "\n",
    "alphabet = string.ascii_lowercase + string.digits + string.punctuation\n",
    "alphabet"
   ]
  },
  {
   "cell_type": "code",
   "execution_count": 37,
   "id": "d83d9537-1019-41c2-8a8b-761eb26923d5",
   "metadata": {},
   "outputs": [],
   "source": [
    "NUM_CHAR_TOKENS = len(alphabet) + 2\n",
    "char_vectorizer = TextVectorization(max_tokens=NUM_CHAR_TOKENS, output_sequence_length=output_seq_char_len, name='char_vectorizer')"
   ]
  },
  {
   "cell_type": "code",
   "execution_count": 38,
   "id": "32a06921-f649-4525-92f5-4cb9f0200851",
   "metadata": {},
   "outputs": [],
   "source": [
    "char_vectorizer.adapt(train_chars)"
   ]
  },
  {
   "cell_type": "code",
   "execution_count": 39,
   "id": "61ade87e-dd9b-4d61-8d6c-3864a7e79d85",
   "metadata": {},
   "outputs": [
    {
     "name": "stdout",
     "output_type": "stream",
     "text": [
      "Number of different characters in character vocab: 28\n",
      "5 most common: ['', '[UNK]', 'e', 't', 'i']\n",
      "5 least common: ['k', 'x', 'z', 'q', 'j']\n"
     ]
    }
   ],
   "source": [
    "#Check character vocab stats\n",
    "char_vocab = char_vectorizer.get_vocabulary()\n",
    "print(f'Number of different characters in character vocab: {len(char_vocab)}')\n",
    "print(f'5 most common: {char_vocab[:5]}')\n",
    "print(f'5 least common: {char_vocab[-5:]}')"
   ]
  },
  {
   "cell_type": "markdown",
   "id": "8cb726c5-f749-4d82-ab11-5c4d8aee2cde",
   "metadata": {},
   "source": [
    "### Create a character level embedding"
   ]
  },
  {
   "cell_type": "code",
   "execution_count": 40,
   "id": "d8fc572d-30a2-46e8-8c48-d4453d440949",
   "metadata": {},
   "outputs": [],
   "source": [
    "char_embed = Embedding(input_dim=len(char_vocab),\n",
    "                      output_dim=25, #This is the output for the char embedding from the research paper\n",
    "                      mask_zero=True,\n",
    "                      name='char_embed')"
   ]
  },
  {
   "cell_type": "markdown",
   "id": "f622004a-da06-4cdc-b384-022cec879abd",
   "metadata": {},
   "source": [
    "### Build the Model"
   ]
  },
  {
   "cell_type": "code",
   "execution_count": 121,
   "id": "60b7a7a1-e3bf-4ebb-9855-09cb3b733add",
   "metadata": {},
   "outputs": [],
   "source": [
    "inputs = Input(shape=(1,), dtype='string')\n",
    "tokenizer = char_vectorizer(inputs)\n",
    "embed = char_embed(tokenizer)\n",
    "x = Conv1D(128,8,activation='relu', padding='same')(embed)\n",
    "x = tf.keras.layers.GlobalMaxPool1D()(x)\n",
    "x = Dense(128, activation='relu')(x)\n",
    "outputs = Dense(5, activation='softmax')(x)\n",
    "\n",
    "model_3 = tf.keras.Model(inputs, outputs)"
   ]
  },
  {
   "cell_type": "code",
   "execution_count": 122,
   "id": "d0f3936d-5c85-410d-881b-83c260d6c482",
   "metadata": {},
   "outputs": [
    {
     "name": "stdout",
     "output_type": "stream",
     "text": [
      "Model: \"model_6\"\n",
      "_________________________________________________________________\n",
      " Layer (type)                Output Shape              Param #   \n",
      "=================================================================\n",
      " input_9 (InputLayer)        [(None, 1)]               0         \n",
      "                                                                 \n",
      " char_vectorizer (TextVecto  (None, 290)               0         \n",
      " rization)                                                       \n",
      "                                                                 \n",
      " char_embed (Embedding)      (None, 290, 25)           700       \n",
      "                                                                 \n",
      " conv1d_6 (Conv1D)           (None, 290, 128)          25728     \n",
      "                                                                 \n",
      " global_max_pooling1d_3 (Gl  (None, 128)               0         \n",
      " obalMaxPooling1D)                                               \n",
      "                                                                 \n",
      " dense_12 (Dense)            (None, 128)               16512     \n",
      "                                                                 \n",
      " dense_13 (Dense)            (None, 5)                 645       \n",
      "                                                                 \n",
      "=================================================================\n",
      "Total params: 43585 (170.25 KB)\n",
      "Trainable params: 43585 (170.25 KB)\n",
      "Non-trainable params: 0 (0.00 Byte)\n",
      "_________________________________________________________________\n"
     ]
    }
   ],
   "source": [
    "tf.random.set_seed(42)\n",
    "\n",
    "model_3.compile(metrics=['accuracy'], loss='categorical_crossentropy', optimizer = tf.keras.optimizers.legacy.Adam())\n",
    "\n",
    "model_3.summary()"
   ]
  },
  {
   "cell_type": "code",
   "execution_count": 41,
   "id": "798525ad-b339-4f61-aa70-2468246453af",
   "metadata": {},
   "outputs": [
    {
     "data": {
      "text/plain": [
       "<_PrefetchDataset element_spec=(TensorSpec(shape=(None,), dtype=tf.string, name=None), TensorSpec(shape=(None, 5), dtype=tf.float64, name=None))>"
      ]
     },
     "execution_count": 41,
     "metadata": {},
     "output_type": "execute_result"
    }
   ],
   "source": [
    "train_char_dataset = tf.data.Dataset.from_tensor_slices((train_chars, train_labels_one_hot)).batch(32).prefetch(tf.data.AUTOTUNE)\n",
    "val_char_dataset = tf.data.Dataset.from_tensor_slices((val_chars, val_labels_one_hot)).batch(32).prefetch(tf.data.AUTOTUNE)\n",
    "test_char_dataset = tf.data.Dataset.from_tensor_slices((test_chars, test_labels_one_hot)).batch(32).prefetch(tf.data.AUTOTUNE)\n",
    "\n",
    "train_char_dataset"
   ]
  },
  {
   "cell_type": "code",
   "execution_count": 124,
   "id": "38766d1a-c6e0-4b53-913f-6fb0c0fcefd8",
   "metadata": {},
   "outputs": [
    {
     "name": "stdout",
     "output_type": "stream",
     "text": [
      "Epoch 1/5\n",
      "5627/5627 [==============================] - 56s 10ms/step - loss: 0.7664 - accuracy: 0.7022 - val_loss: 0.6265 - val_accuracy: 0.7664\n",
      "Epoch 2/5\n",
      "5627/5627 [==============================] - 56s 10ms/step - loss: 0.6219 - accuracy: 0.7660 - val_loss: 0.6191 - val_accuracy: 0.7719\n",
      "Epoch 3/5\n",
      "5627/5627 [==============================] - 56s 10ms/step - loss: 0.5764 - accuracy: 0.7836 - val_loss: 0.6076 - val_accuracy: 0.7790\n",
      "Epoch 4/5\n",
      "5627/5627 [==============================] - 56s 10ms/step - loss: 0.5505 - accuracy: 0.7930 - val_loss: 0.6070 - val_accuracy: 0.7766\n",
      "Epoch 5/5\n",
      "5627/5627 [==============================] - 52s 9ms/step - loss: 0.5313 - accuracy: 0.8000 - val_loss: 0.5885 - val_accuracy: 0.7859\n"
     ]
    }
   ],
   "source": [
    "tf.random.set_seed(42)\n",
    "\n",
    "history_3 = model_3.fit(train_char_dataset, epochs=5, validation_data=val_char_dataset)"
   ]
  },
  {
   "cell_type": "code",
   "execution_count": 125,
   "id": "250b0e17-9abd-415e-82da-b39318ce4a5f",
   "metadata": {},
   "outputs": [
    {
     "name": "stdout",
     "output_type": "stream",
     "text": [
      "945/945 [==============================] - 3s 3ms/step\n"
     ]
    },
    {
     "data": {
      "text/plain": [
       "array([[2.2773120e-01, 5.9265369e-01, 2.8555509e-02, 9.5946625e-02,\n",
       "        5.5112842e-02],\n",
       "       [5.4904866e-01, 2.4641748e-01, 8.1020873e-03, 1.7474245e-01,\n",
       "        2.1689346e-02],\n",
       "       [4.0063685e-01, 6.0791016e-04, 2.8923438e-03, 5.9561878e-01,\n",
       "        2.4413031e-04],\n",
       "       ...,\n",
       "       [4.7767440e-07, 9.1349866e-05, 1.7625453e-03, 7.9445346e-07,\n",
       "        9.9814487e-01],\n",
       "       [5.2010844e-04, 1.8064020e-02, 2.9909359e-02, 4.6087932e-04,\n",
       "        9.5104569e-01],\n",
       "       [2.4998426e-03, 9.9346876e-01, 7.7318936e-04, 9.6100155e-04,\n",
       "        2.2972091e-03]], dtype=float32)"
      ]
     },
     "execution_count": 125,
     "metadata": {},
     "output_type": "execute_result"
    }
   ],
   "source": [
    "model_3_pred_probs = model_3.predict(val_char_dataset)\n",
    "model_3_pred_probs"
   ]
  },
  {
   "cell_type": "code",
   "execution_count": 126,
   "id": "252f3c53-303b-4079-8c35-02f517fb8a54",
   "metadata": {},
   "outputs": [
    {
     "data": {
      "text/plain": [
       "<tf.Tensor: shape=(30212,), dtype=int64, numpy=array([1, 0, 3, ..., 4, 4, 1])>"
      ]
     },
     "execution_count": 126,
     "metadata": {},
     "output_type": "execute_result"
    }
   ],
   "source": [
    "model_3_preds = tf.argmax(model_3_pred_probs, axis=1)\n",
    "model_3_preds"
   ]
  },
  {
   "cell_type": "code",
   "execution_count": 127,
   "id": "7bdc5ac2-fc66-40a3-9d0a-ca5cadd0336e",
   "metadata": {},
   "outputs": [
    {
     "name": "stdout",
     "output_type": "stream",
     "text": [
      "              precision    recall  f1-score   support\n",
      "\n",
      "           0       0.63      0.58      0.61      3449\n",
      "           1       0.74      0.62      0.68      4582\n",
      "           2       0.84      0.88      0.86      9964\n",
      "           3       0.78      0.50      0.61      2376\n",
      "           4       0.79      0.91      0.85      9841\n",
      "\n",
      "    accuracy                           0.79     30212\n",
      "   macro avg       0.76      0.70      0.72     30212\n",
      "weighted avg       0.78      0.79      0.78     30212\n",
      "\n"
     ]
    }
   ],
   "source": [
    "print(classification_report(val_labels_encoded, model_3_preds))"
   ]
  },
  {
   "cell_type": "markdown",
   "id": "a3fac0c2-029b-44dd-9f3e-47153a30b3e1",
   "metadata": {},
   "source": [
    "## Combining Pretrained token embeddings + Character embeddings\n",
    "\n",
    "1. Create a token-level embedding model (similar `model_1`)\n",
    "2. Create a character-level model (similar to `model_3` with a slight modification)\n",
    "3. Combine 1 & 2 with a concatenate (`layers.Concatenate`)\n",
    "4. Build a series of output layers on top of 3 similar to Figure 1 and section 4.2 of the research paper\n",
    "5. Construct a model which takes token and character level sequences as input and produce sequence label probabilities of ouput"
   ]
  },
  {
   "cell_type": "code",
   "execution_count": 42,
   "id": "b9c1caf5-a0d8-4c35-ace6-d8d8c7c7df67",
   "metadata": {},
   "outputs": [],
   "source": [
    "from tensorflow.keras import layers\n",
    "\n",
    "# Setup the token inputs model\n",
    "token_inputs = layers.Input(shape=[], dtype=tf.string, name='token_input')\n",
    "token_embeddings = encoding_layer(token_inputs)\n",
    "token_output = layers.Dense(128, activation='relu')(token_embeddings)\n",
    "token_model = tf.keras.Model(inputs=token_inputs, outputs=token_output)\n",
    "\n",
    "# Create the character level model\n",
    "char_inputs = layers.Input(shape=(1,), dtype=tf.string, name='char_input')\n",
    "char_vectors = char_vectorizer(char_inputs)\n",
    "char_embeddings = char_embed(char_vectors)\n",
    "char_bi_lstm = layers.Bidirectional(layers.LSTM(24))(char_embeddings)\n",
    "char_model = tf.keras.Model(inputs=char_inputs, outputs=char_bi_lstm)\n",
    "\n",
    "# Combine the models with concatenate\n",
    "token_char_concat = layers.Concatenate(name='token_char_hybrid')([token_model.output, char_model.output])\n",
    "\n",
    "# Build output layers - add in dropout as in 4.2 from research paper\n",
    "combined_dropout = layers.Dropout(0.5)(token_char_concat)\n",
    "combined_dense = layers.Dense(128, activation='relu')(combined_dropout)\n",
    "final_dropout = layers.Dropout(0.5)(combined_dense)\n",
    "output_layer = layers.Dense(5, activation='softmax')(final_dropout)\n",
    "\n",
    "# Construct the final model\n",
    "model_4 = tf.keras.Model(inputs = [token_model.input, char_model.input], outputs=output_layer)"
   ]
  },
  {
   "cell_type": "code",
   "execution_count": 43,
   "id": "b7d7560c-b78a-4915-8929-1586d518630e",
   "metadata": {},
   "outputs": [
    {
     "name": "stdout",
     "output_type": "stream",
     "text": [
      "Model: \"model_4\"\n",
      "__________________________________________________________________________________________________\n",
      " Layer (type)                Output Shape                 Param #   Connected to                  \n",
      "==================================================================================================\n",
      " char_input (InputLayer)     [(None, 1)]                  0         []                            \n",
      "                                                                                                  \n",
      " token_input (InputLayer)    [(None,)]                    0         []                            \n",
      "                                                                                                  \n",
      " char_vectorizer (TextVecto  (None, 290)                  0         ['char_input[0][0]']          \n",
      " rization)                                                                                        \n",
      "                                                                                                  \n",
      " universal_sentence_encoder  (None, 512)                  2567978   ['token_input[0][0]']         \n",
      "  (KerasLayer)                                            24                                      \n",
      "                                                                                                  \n",
      " char_embed (Embedding)      (None, 290, 25)              700       ['char_vectorizer[0][0]']     \n",
      "                                                                                                  \n",
      " dense_4 (Dense)             (None, 128)                  65664     ['universal_sentence_encoder[1\n",
      "                                                                    ][0]']                        \n",
      "                                                                                                  \n",
      " bidirectional (Bidirection  (None, 48)                   9600      ['char_embed[0][0]']          \n",
      " al)                                                                                              \n",
      "                                                                                                  \n",
      " token_char_hybrid (Concate  (None, 176)                  0         ['dense_4[0][0]',             \n",
      " nate)                                                               'bidirectional[0][0]']       \n",
      "                                                                                                  \n",
      " dropout_1 (Dropout)         (None, 176)                  0         ['token_char_hybrid[0][0]']   \n",
      "                                                                                                  \n",
      " dense_5 (Dense)             (None, 128)                  22656     ['dropout_1[0][0]']           \n",
      "                                                                                                  \n",
      " dropout_2 (Dropout)         (None, 128)                  0         ['dense_5[0][0]']             \n",
      "                                                                                                  \n",
      " dense_6 (Dense)             (None, 5)                    645       ['dropout_2[0][0]']           \n",
      "                                                                                                  \n",
      "==================================================================================================\n",
      "Total params: 256897089 (979.98 MB)\n",
      "Trainable params: 99265 (387.75 KB)\n",
      "Non-trainable params: 256797824 (979.61 MB)\n",
      "__________________________________________________________________________________________________\n"
     ]
    }
   ],
   "source": [
    "model_4.summary()"
   ]
  },
  {
   "cell_type": "code",
   "execution_count": 47,
   "id": "33eab464-3c2d-4a0c-afc3-f833134eb9d3",
   "metadata": {},
   "outputs": [],
   "source": [
    "model_4.compile(loss='categorical_crossentropy', metrics=['accuracy'], optimizer=tf.keras.optimizers.legacy.Adam())"
   ]
  },
  {
   "cell_type": "markdown",
   "id": "16375857-44ee-492c-8ef5-5bca996e3135",
   "metadata": {},
   "source": [
    "### Combining token and character data into a dataset"
   ]
  },
  {
   "cell_type": "code",
   "execution_count": 48,
   "id": "189f349d-d729-4a3f-915d-8b8d75c170f9",
   "metadata": {},
   "outputs": [],
   "source": [
    "#Combine chars and tokens\n",
    "train_token_char_data = tf.data.Dataset.from_tensor_slices((train_sentences, train_chars))\n",
    "train_char_token_labels = tf.data.Dataset.from_tensor_slices(train_labels_one_hot)\n",
    "train_char_token_dataset = tf.data.Dataset.zip((train_token_char_data, train_char_token_labels))\n",
    "\n",
    "#Prefetch and batch train data\n",
    "train_char_token_dataset = train_char_token_dataset.batch(32).prefetch(tf.data.AUTOTUNE)"
   ]
  },
  {
   "cell_type": "code",
   "execution_count": 49,
   "id": "c22ec442-8300-46ea-b0b6-2091e2f8160a",
   "metadata": {},
   "outputs": [],
   "source": [
    "val_token_char_data = tf.data.Dataset.from_tensor_slices((val_sentences, val_chars))\n",
    "val_char_token_labels = tf.data.Dataset.from_tensor_slices(val_labels_one_hot)\n",
    "val_char_token_dataset = tf.data.Dataset.zip((val_token_char_data, val_char_token_labels))\n",
    "\n",
    "val_char_token_dataset = val_char_token_dataset.batch(32).prefetch(tf.data.AUTOTUNE)"
   ]
  },
  {
   "cell_type": "code",
   "execution_count": 51,
   "id": "65ecfa74-1da9-4b6a-943f-09d32407dc4d",
   "metadata": {},
   "outputs": [
    {
     "data": {
      "text/plain": [
       "(<_PrefetchDataset element_spec=((TensorSpec(shape=(None,), dtype=tf.string, name=None), TensorSpec(shape=(None,), dtype=tf.string, name=None)), TensorSpec(shape=(None, 5), dtype=tf.float64, name=None))>,\n",
       " <_PrefetchDataset element_spec=((TensorSpec(shape=(None,), dtype=tf.string, name=None), TensorSpec(shape=(None,), dtype=tf.string, name=None)), TensorSpec(shape=(None, 5), dtype=tf.float64, name=None))>)"
      ]
     },
     "execution_count": 51,
     "metadata": {},
     "output_type": "execute_result"
    }
   ],
   "source": [
    "train_char_token_dataset, val_char_token_dataset"
   ]
  },
  {
   "cell_type": "markdown",
   "id": "515972dc-5ef2-46bd-82bf-13cc5b4c3097",
   "metadata": {},
   "source": [
    "### Fitting model with hybrid embeddings"
   ]
  },
  {
   "cell_type": "code",
   "execution_count": 55,
   "id": "0c856570-ae30-46c6-8a27-07c58ddd22e6",
   "metadata": {},
   "outputs": [
    {
     "name": "stdout",
     "output_type": "stream",
     "text": [
      "Epoch 1/5\n",
      "562/562 [==============================] - 29s 51ms/step - loss: 0.7915 - accuracy: 0.6981 - val_loss: 0.7256 - val_accuracy: 0.7281\n",
      "Epoch 2/5\n",
      "562/562 [==============================] - 28s 50ms/step - loss: 0.7592 - accuracy: 0.7083 - val_loss: 0.6935 - val_accuracy: 0.7364\n",
      "Epoch 3/5\n",
      "562/562 [==============================] - 28s 50ms/step - loss: 0.7562 - accuracy: 0.7095 - val_loss: 0.6807 - val_accuracy: 0.7394\n",
      "Epoch 4/5\n",
      "562/562 [==============================] - 28s 50ms/step - loss: 0.7304 - accuracy: 0.7248 - val_loss: 0.6606 - val_accuracy: 0.7493\n",
      "Epoch 5/5\n",
      "562/562 [==============================] - 29s 51ms/step - loss: 0.7404 - accuracy: 0.7196 - val_loss: 0.6485 - val_accuracy: 0.7513\n"
     ]
    }
   ],
   "source": [
    "history_4 = model_4.fit(train_char_token_dataset, epochs=5, steps_per_epoch=int(0.1 * len(train_char_token_dataset)), validation_data=val_char_token_dataset, validation_steps=int(0.1 * len(val_char_token_dataset)))"
   ]
  },
  {
   "cell_type": "code",
   "execution_count": 56,
   "id": "f6926734-f7b3-4086-9012-fa47fa0dc4dd",
   "metadata": {},
   "outputs": [
    {
     "name": "stdout",
     "output_type": "stream",
     "text": [
      "945/945 [==============================] - 11s 10ms/step\n"
     ]
    },
    {
     "data": {
      "text/plain": [
       "array([[5.3170544e-01, 2.3859826e-01, 6.6737402e-03, 2.1439488e-01,\n",
       "        8.6277192e-03],\n",
       "       [4.1233420e-01, 4.4935280e-01, 5.0584115e-03, 1.2788005e-01,\n",
       "        5.3745159e-03],\n",
       "       [3.1826845e-01, 3.4666885e-02, 6.4133622e-02, 5.6788933e-01,\n",
       "        1.5041752e-02],\n",
       "       ...,\n",
       "       [3.5683109e-04, 2.7701485e-03, 6.6153131e-02, 1.6673804e-04,\n",
       "        9.3055314e-01],\n",
       "       [9.6102655e-03, 4.2361300e-02, 3.4710699e-01, 4.2434372e-03,\n",
       "        5.9667796e-01],\n",
       "       [2.2583662e-01, 5.5096298e-01, 1.9277522e-01, 1.1197063e-02,\n",
       "        1.9228131e-02]], dtype=float32)"
      ]
     },
     "execution_count": 56,
     "metadata": {},
     "output_type": "execute_result"
    }
   ],
   "source": [
    "model_4_pred_probs = model_4.predict(val_char_token_dataset)\n",
    "model_4_pred_probs"
   ]
  },
  {
   "cell_type": "code",
   "execution_count": 57,
   "id": "2cf1e0bd-7705-4496-aaf3-10b607ba623a",
   "metadata": {},
   "outputs": [
    {
     "data": {
      "text/plain": [
       "<tf.Tensor: shape=(30212,), dtype=int64, numpy=array([0, 1, 3, ..., 4, 4, 1])>"
      ]
     },
     "execution_count": 57,
     "metadata": {},
     "output_type": "execute_result"
    }
   ],
   "source": [
    "model_4_preds = tf.argmax(model_4_pred_probs, axis=1)\n",
    "model_4_preds"
   ]
  },
  {
   "cell_type": "code",
   "execution_count": 59,
   "id": "e734e375-8b7d-4db6-ac32-306583fcbe5c",
   "metadata": {},
   "outputs": [
    {
     "name": "stdout",
     "output_type": "stream",
     "text": [
      "              precision    recall  f1-score   support\n",
      "\n",
      "           0       0.58      0.54      0.56      3449\n",
      "           1       0.67      0.58      0.62      4582\n",
      "           2       0.77      0.89      0.83      9964\n",
      "           3       0.71      0.53      0.61      2376\n",
      "           4       0.82      0.81      0.81      9841\n",
      "\n",
      "    accuracy                           0.75     30212\n",
      "   macro avg       0.71      0.67      0.68     30212\n",
      "weighted avg       0.74      0.75      0.74     30212\n",
      "\n"
     ]
    }
   ],
   "source": [
    "from sklearn.metrics import classification_report\n",
    "print(classification_report(val_labels_encoded, model_4_preds))"
   ]
  },
  {
   "cell_type": "markdown",
   "id": "69c76230-9cf7-426d-a97a-09bfee32cb0c",
   "metadata": {},
   "source": [
    "## Model 5 Including positional embeddings"
   ]
  },
  {
   "cell_type": "code",
   "execution_count": 60,
   "id": "947baccb-69f6-4aa5-911b-d13c687a783e",
   "metadata": {},
   "outputs": [
    {
     "data": {
      "text/html": [
       "<div>\n",
       "<style scoped>\n",
       "    .dataframe tbody tr th:only-of-type {\n",
       "        vertical-align: middle;\n",
       "    }\n",
       "\n",
       "    .dataframe tbody tr th {\n",
       "        vertical-align: top;\n",
       "    }\n",
       "\n",
       "    .dataframe thead th {\n",
       "        text-align: right;\n",
       "    }\n",
       "</style>\n",
       "<table border=\"1\" class=\"dataframe\">\n",
       "  <thead>\n",
       "    <tr style=\"text-align: right;\">\n",
       "      <th></th>\n",
       "      <th>target</th>\n",
       "      <th>text</th>\n",
       "      <th>line_number</th>\n",
       "      <th>total_lines</th>\n",
       "    </tr>\n",
       "  </thead>\n",
       "  <tbody>\n",
       "    <tr>\n",
       "      <th>0</th>\n",
       "      <td>OBJECTIVE</td>\n",
       "      <td>to investigate the efficacy of @ weeks of dail...</td>\n",
       "      <td>0</td>\n",
       "      <td>11</td>\n",
       "    </tr>\n",
       "    <tr>\n",
       "      <th>1</th>\n",
       "      <td>METHODS</td>\n",
       "      <td>a total of @ patients with primary knee oa wer...</td>\n",
       "      <td>1</td>\n",
       "      <td>11</td>\n",
       "    </tr>\n",
       "    <tr>\n",
       "      <th>2</th>\n",
       "      <td>METHODS</td>\n",
       "      <td>outcome measures included pain reduction and i...</td>\n",
       "      <td>2</td>\n",
       "      <td>11</td>\n",
       "    </tr>\n",
       "    <tr>\n",
       "      <th>3</th>\n",
       "      <td>METHODS</td>\n",
       "      <td>pain was assessed using the visual analog pain...</td>\n",
       "      <td>3</td>\n",
       "      <td>11</td>\n",
       "    </tr>\n",
       "    <tr>\n",
       "      <th>4</th>\n",
       "      <td>METHODS</td>\n",
       "      <td>secondary outcome measures included the wester...</td>\n",
       "      <td>4</td>\n",
       "      <td>11</td>\n",
       "    </tr>\n",
       "  </tbody>\n",
       "</table>\n",
       "</div>"
      ],
      "text/plain": [
       "      target                                               text  line_number  \\\n",
       "0  OBJECTIVE  to investigate the efficacy of @ weeks of dail...            0   \n",
       "1    METHODS  a total of @ patients with primary knee oa wer...            1   \n",
       "2    METHODS  outcome measures included pain reduction and i...            2   \n",
       "3    METHODS  pain was assessed using the visual analog pain...            3   \n",
       "4    METHODS  secondary outcome measures included the wester...            4   \n",
       "\n",
       "   total_lines  \n",
       "0           11  \n",
       "1           11  \n",
       "2           11  \n",
       "3           11  \n",
       "4           11  "
      ]
     },
     "execution_count": 60,
     "metadata": {},
     "output_type": "execute_result"
    }
   ],
   "source": [
    "train_df.head()"
   ]
  },
  {
   "cell_type": "code",
   "execution_count": 61,
   "id": "abeaa9f6-f7c4-4701-9f0e-4a19ced5dd7d",
   "metadata": {},
   "outputs": [
    {
     "data": {
      "text/plain": [
       "line_number\n",
       "0     15000\n",
       "1     15000\n",
       "2     15000\n",
       "3     15000\n",
       "4     14992\n",
       "5     14949\n",
       "6     14758\n",
       "7     14279\n",
       "8     13346\n",
       "9     11981\n",
       "10    10041\n",
       "11     7892\n",
       "12     5853\n",
       "13     4152\n",
       "14     2835\n",
       "15     1861\n",
       "16     1188\n",
       "17      751\n",
       "18      462\n",
       "19      286\n",
       "20      162\n",
       "21      101\n",
       "22       66\n",
       "23       33\n",
       "24       22\n",
       "25       14\n",
       "26        7\n",
       "27        4\n",
       "28        3\n",
       "29        1\n",
       "30        1\n",
       "Name: count, dtype: int64"
      ]
     },
     "execution_count": 61,
     "metadata": {},
     "output_type": "execute_result"
    }
   ],
   "source": [
    "# Create positional embeddings\n",
    "train_df['line_number'].value_counts()"
   ]
  },
  {
   "cell_type": "code",
   "execution_count": 64,
   "id": "da6a144c-2a4c-41bd-8699-c42f9ae35db0",
   "metadata": {},
   "outputs": [
    {
     "data": {
      "text/plain": [
       "<Axes: ylabel='Frequency'>"
      ]
     },
     "execution_count": 64,
     "metadata": {},
     "output_type": "execute_result"
    },
    {
     "data": {
      "image/png": "[encoded data removed]",
      "text/plain": [
       "<Figure size 640x480 with 1 Axes>"
      ]
     },
     "metadata": {},
     "output_type": "display_data"
    }
   ],
   "source": [
    "#Check distribution of line number column\n",
    "train_df.line_number.plot.hist()"
   ]
  },
  {
   "cell_type": "code",
   "execution_count": 66,
   "id": "57f3fcc2-8bd3-4f74-9d6f-4804d307570d",
   "metadata": {},
   "outputs": [
    {
     "data": {
      "text/plain": [
       "<tf.Tensor: shape=(10, 15), dtype=float32, numpy=\n",
       "array([[1., 0., 0., 0., 0., 0., 0., 0., 0., 0., 0., 0., 0., 0., 0.],\n",
       "       [0., 1., 0., 0., 0., 0., 0., 0., 0., 0., 0., 0., 0., 0., 0.],\n",
       "       [0., 0., 1., 0., 0., 0., 0., 0., 0., 0., 0., 0., 0., 0., 0.],\n",
       "       [0., 0., 0., 1., 0., 0., 0., 0., 0., 0., 0., 0., 0., 0., 0.],\n",
       "       [0., 0., 0., 0., 1., 0., 0., 0., 0., 0., 0., 0., 0., 0., 0.],\n",
       "       [0., 0., 0., 0., 0., 1., 0., 0., 0., 0., 0., 0., 0., 0., 0.],\n",
       "       [0., 0., 0., 0., 0., 0., 1., 0., 0., 0., 0., 0., 0., 0., 0.],\n",
       "       [0., 0., 0., 0., 0., 0., 0., 1., 0., 0., 0., 0., 0., 0., 0.],\n",
       "       [0., 0., 0., 0., 0., 0., 0., 0., 1., 0., 0., 0., 0., 0., 0.],\n",
       "       [0., 0., 0., 0., 0., 0., 0., 0., 0., 1., 0., 0., 0., 0., 0.]],\n",
       "      dtype=float32)>"
      ]
     },
     "execution_count": 66,
     "metadata": {},
     "output_type": "execute_result"
    }
   ],
   "source": [
    "# Use TensorFlow to create one hot encoded tensors\n",
    "train_line_numbers_one_hot = tf.one_hot(train_df['line_number'].to_numpy(), depth=15)\n",
    "val_line_numbers_one_hot = tf.one_hot(val_df['line_number'].to_numpy(), depth=15)\n",
    "test_line_numbers_one_hot = tf.one_hot(test_df['line_number'].to_numpy(), depth=15)\n",
    "train_line_numbers_one_hot[:10]"
   ]
  },
  {
   "cell_type": "code",
   "execution_count": 68,
   "id": "bff28da4-9a6d-48d4-8bfe-8c456c259d3e",
   "metadata": {},
   "outputs": [
    {
     "data": {
      "text/plain": [
       "total_lines\n",
       "11    24468\n",
       "10    23639\n",
       "12    22113\n",
       "9     19400\n",
       "13    18438\n",
       "14    14610\n",
       "8     12285\n",
       "15    10768\n",
       "7      7464\n",
       "16     7429\n",
       "17     5202\n",
       "6      3353\n",
       "18     3344\n",
       "19     2480\n",
       "20     1281\n",
       "5      1146\n",
       "21      770\n",
       "22      759\n",
       "23      264\n",
       "4       215\n",
       "24      200\n",
       "25      182\n",
       "26       81\n",
       "28       58\n",
       "3        32\n",
       "30       31\n",
       "27       28\n",
       "Name: count, dtype: int64"
      ]
     },
     "execution_count": 68,
     "metadata": {},
     "output_type": "execute_result"
    }
   ],
   "source": [
    "train_df['total_lines'].value_counts()"
   ]
  },
  {
   "cell_type": "code",
   "execution_count": 69,
   "id": "55eb321b-7aee-4a78-a84d-0803f30de012",
   "metadata": {},
   "outputs": [
    {
     "data": {
      "text/plain": [
       "<Axes: ylabel='Frequency'>"
      ]
     },
     "execution_count": 69,
     "metadata": {},
     "output_type": "execute_result"
    },
    {
     "data": {
      "image/png": "[encoded data removed]",
      "text/plain": [
       "<Figure size 640x480 with 1 Axes>"
      ]
     },
     "metadata": {},
     "output_type": "display_data"
    }
   ],
   "source": [
    "train_df['total_lines'].plot.hist()"
   ]
  },
  {
   "cell_type": "code",
   "execution_count": 73,
   "id": "1401e3a9-682c-47b6-a546-b2d26902aa58",
   "metadata": {},
   "outputs": [
    {
     "data": {
      "text/plain": [
       "<tf.Tensor: shape=(10, 20), dtype=float32, numpy=\n",
       "array([[0., 0., 0., 0., 0., 0., 0., 0., 0., 0., 0., 1., 0., 0., 0., 0.,\n",
       "        0., 0., 0., 0.],\n",
       "       [0., 0., 0., 0., 0., 0., 0., 0., 0., 0., 0., 1., 0., 0., 0., 0.,\n",
       "        0., 0., 0., 0.],\n",
       "       [0., 0., 0., 0., 0., 0., 0., 0., 0., 0., 0., 1., 0., 0., 0., 0.,\n",
       "        0., 0., 0., 0.],\n",
       "       [0., 0., 0., 0., 0., 0., 0., 0., 0., 0., 0., 1., 0., 0., 0., 0.,\n",
       "        0., 0., 0., 0.],\n",
       "       [0., 0., 0., 0., 0., 0., 0., 0., 0., 0., 0., 1., 0., 0., 0., 0.,\n",
       "        0., 0., 0., 0.],\n",
       "       [0., 0., 0., 0., 0., 0., 0., 0., 0., 0., 0., 1., 0., 0., 0., 0.,\n",
       "        0., 0., 0., 0.],\n",
       "       [0., 0., 0., 0., 0., 0., 0., 0., 0., 0., 0., 1., 0., 0., 0., 0.,\n",
       "        0., 0., 0., 0.],\n",
       "       [0., 0., 0., 0., 0., 0., 0., 0., 0., 0., 0., 1., 0., 0., 0., 0.,\n",
       "        0., 0., 0., 0.],\n",
       "       [0., 0., 0., 0., 0., 0., 0., 0., 0., 0., 0., 1., 0., 0., 0., 0.,\n",
       "        0., 0., 0., 0.],\n",
       "       [0., 0., 0., 0., 0., 0., 0., 0., 0., 0., 0., 1., 0., 0., 0., 0.,\n",
       "        0., 0., 0., 0.]], dtype=float32)>"
      ]
     },
     "execution_count": 73,
     "metadata": {},
     "output_type": "execute_result"
    }
   ],
   "source": [
    "train_total_line_one_hot = tf.one_hot(train_df['total_lines'].to_numpy(), depth=20)\n",
    "val_total_line_one_hot = tf.one_hot(val_df['total_lines'].to_numpy(), depth=20)\n",
    "test_total_line_one_hot = tf.one_hot(test_df['total_lines'].to_numpy(), depth=20)\n",
    "train_total_line_one_hot[:10]"
   ]
  },
  {
   "cell_type": "markdown",
   "id": "900dd064-263b-4535-ad7a-d098b205a3c2",
   "metadata": {},
   "source": [
    "### Building the TriBrid Embedding model\n",
    "\n",
    "1. Create token level model\n",
    "2. Create character level model\n",
    "3. Create a model for the line number feature\n",
    "4. Create a model for the total lines feature\n",
    "5. Combine the outputs of 1&2 using concatenate\n",
    "6. Combine the outputs of 3, 4, 5 using concat\n",
    "7. Create output layer to accept the tribred model\n",
    "8. Combine the inputs of 1,2,3,4 and outputs of into a tf.keras.Model"
   ]
  },
  {
   "cell_type": "code",
   "execution_count": 76,
   "id": "9f57af47-72df-48c3-8234-4302f15976ef",
   "metadata": {},
   "outputs": [
    {
     "data": {
      "text/plain": [
       "(TensorShape([180040, 15]), TensorShape([180040, 20]))"
      ]
     },
     "execution_count": 76,
     "metadata": {},
     "output_type": "execute_result"
    }
   ],
   "source": [
    "train_line_numbers_one_hot.shape, train_total_line_one_hot.shape"
   ]
  },
  {
   "cell_type": "code",
   "execution_count": 92,
   "id": "ed97147f-a6fd-479d-963d-44eff41baf1c",
   "metadata": {},
   "outputs": [],
   "source": [
    "#1 Token level Inputs\n",
    "token_inputs = layers.Input(shape=[], dtype='string', name='token_inputs')\n",
    "token_embeddings = encoding_layer(token_inputs)\n",
    "token_outputs = layers.Dense(128, activation='relu')(token_embeddings)\n",
    "token_model = tf.keras.Model(token_inputs, token_outputs)\n",
    "\n",
    "#2 Char level Inputs\n",
    "char_inputs = layers.Input(shape=(1,), dtype='string', name='char_inputs')\n",
    "char_vectors = char_vectorizer(char_inputs)\n",
    "char_embeddings = char_embed(char_vectors)\n",
    "char_bi_lstm = layers.Bidirectional(layers.LSTM(24))(char_embeddings)\n",
    "char_model = tf.keras.Model(char_inputs, char_bi_lstm)\n",
    "\n",
    "#3 Line number Inputs\n",
    "line_inputs = layers.Input(shape=(15,), dtype=tf.float32)\n",
    "# line_feed = layers.Dense(64, activation='relu')\n",
    "line_outputs = layers.Dense(32, activation='relu')(line_inputs)\n",
    "line_model = tf.keras.Model(line_inputs, line_outputs)\n",
    "\n",
    "#4 Total Lines Inputs\n",
    "total_line_inputs = layers.Input(shape=(20,), dtype=tf.float32)\n",
    "total_line_outputs = layers.Dense(32, activation='relu')(total_line_inputs)\n",
    "total_line_model = tf.keras.Model(total_line_inputs, total_line_outputs)\n",
    "\n",
    "#5 Combine token and char embeddings into hybrid eembedding\n",
    "combined_embeddings = layers.Concatenate(name='char_token_hybrid')([token_model.output, char_model.output])\n",
    "x = layers.Dense(256, activation='relu')(combined_embeddings)\n",
    "combined_dropout = layers.Dropout(0.5)(x)\n",
    "\n",
    "#6 Combine positional embedding with combined token and char embeddings\n",
    "tribrid_embeddings = layers.Concatenate(name='char_token_positional')([line_model.output, total_line_model.output, combined_dropout])\n",
    "# y = layers.Bidirectional(layers.LSTM(24))(tribrid_embeddings)\n",
    "\n",
    "#7 Create output layer\n",
    "output_layer = layers.Dense(5, activation='softmax')(tribrid_embeddings)\n",
    "\n",
    "#8 Put together model with all kinds of inputs\n",
    "model_5 = tf.keras.Model(inputs=[line_model.input, total_line_model.input, token_model.input, char_model.input],\n",
    "                        outputs=output_layer, name='Tribrid_Embedding_Model')"
   ]
  },
  {
   "cell_type": "code",
   "execution_count": 93,
   "id": "5061c827-c98e-4935-8918-91fbb1af0893",
   "metadata": {},
   "outputs": [
    {
     "name": "stdout",
     "output_type": "stream",
     "text": [
      "Model: \"Tribrid_Embedding_Model\"\n",
      "__________________________________________________________________________________________________\n",
      " Layer (type)                Output Shape                 Param #   Connected to                  \n",
      "==================================================================================================\n",
      " char_inputs (InputLayer)    [(None, 1)]                  0         []                            \n",
      "                                                                                                  \n",
      " token_inputs (InputLayer)   [(None,)]                    0         []                            \n",
      "                                                                                                  \n",
      " char_vectorizer (TextVecto  (None, 290)                  0         ['char_inputs[0][0]']         \n",
      " rization)                                                                                        \n",
      "                                                                                                  \n",
      " universal_sentence_encoder  (None, 512)                  2567978   ['token_inputs[0][0]']        \n",
      "  (KerasLayer)                                            24                                      \n",
      "                                                                                                  \n",
      " char_embed (Embedding)      (None, 290, 25)              700       ['char_vectorizer[5][0]']     \n",
      "                                                                                                  \n",
      " dense_26 (Dense)            (None, 128)                  65664     ['universal_sentence_encoder[6\n",
      "                                                                    ][0]']                        \n",
      "                                                                                                  \n",
      " bidirectional_6 (Bidirecti  (None, 48)                   9600      ['char_embed[5][0]']          \n",
      " onal)                                                                                            \n",
      "                                                                                                  \n",
      " char_token_hybrid (Concate  (None, 176)                  0         ['dense_26[0][0]',            \n",
      " nate)                                                               'bidirectional_6[0][0]']     \n",
      "                                                                                                  \n",
      " input_11 (InputLayer)       [(None, 15)]                 0         []                            \n",
      "                                                                                                  \n",
      " input_12 (InputLayer)       [(None, 20)]                 0         []                            \n",
      "                                                                                                  \n",
      " dense_29 (Dense)            (None, 256)                  45312     ['char_token_hybrid[0][0]']   \n",
      "                                                                                                  \n",
      " dense_27 (Dense)            (None, 32)                   512       ['input_11[0][0]']            \n",
      "                                                                                                  \n",
      " dense_28 (Dense)            (None, 32)                   672       ['input_12[0][0]']            \n",
      "                                                                                                  \n",
      " dropout_7 (Dropout)         (None, 256)                  0         ['dense_29[0][0]']            \n",
      "                                                                                                  \n",
      " char_token_positional (Con  (None, 320)                  0         ['dense_27[0][0]',            \n",
      " catenate)                                                           'dense_28[0][0]',            \n",
      "                                                                     'dropout_7[0][0]']           \n",
      "                                                                                                  \n",
      " dense_30 (Dense)            (None, 5)                    1605      ['char_token_positional[0][0]'\n",
      "                                                                    ]                             \n",
      "                                                                                                  \n",
      "==================================================================================================\n",
      "Total params: 256921889 (980.08 MB)\n",
      "Trainable params: 124065 (484.63 KB)\n",
      "Non-trainable params: 256797824 (979.61 MB)\n",
      "__________________________________________________________________________________________________\n"
     ]
    }
   ],
   "source": [
    "model_5.summary()"
   ]
  },
  {
   "cell_type": "code",
   "execution_count": 94,
   "id": "7f1010ed-d3ba-43f8-aa4d-4ebd21236c15",
   "metadata": {},
   "outputs": [],
   "source": [
    "model_5.compile(loss=tf.keras.losses.CategoricalCrossentropy(label_smoothing=0.2), metrics=['accuracy'], optimizer = tf.keras.optimizers.legacy.Adam())"
   ]
  },
  {
   "cell_type": "code",
   "execution_count": 95,
   "id": "f75582a4-a921-456f-9971-1a6d1f46970c",
   "metadata": {},
   "outputs": [],
   "source": [
    "# Create Training and validation datasets (with all four kinds of input data)\n",
    "train_char_token_pos_data = tf.data.Dataset.from_tensor_slices((train_line_numbers_one_hot, train_total_line_one_hot, train_sentences, train_chars))\n",
    "train_char_token_pos_labels = tf.data.Dataset.from_tensor_slices(train_labels_one_hot)\n",
    "train_char_token_pos_dataset = tf.data.Dataset.zip((train_char_token_pos_data, train_char_token_pos_labels))\n",
    "train_char_token_pos_dataset = train_char_token_pos_dataset.batch(32).prefetch(tf.data.AUTOTUNE)\n",
    "\n",
    "val_char_token_pos_data = tf.data.Dataset.from_tensor_slices((val_line_numbers_one_hot, val_total_line_one_hot, val_sentences, val_chars))\n",
    "val_char_token_pos_labels = tf.data.Dataset.from_tensor_slices(val_labels_one_hot)\n",
    "val_char_token_pos_dataset = tf.data.Dataset.zip((val_char_token_pos_data, val_char_token_pos_labels))\n",
    "val_char_token_pos_dataset = val_char_token_pos_dataset.batch(32).prefetch(tf.data.AUTOTUNE)"
   ]
  },
  {
   "cell_type": "code",
   "execution_count": 96,
   "id": "d8c943c2-c885-463c-8c45-681ccdda745c",
   "metadata": {},
   "outputs": [
    {
     "data": {
      "text/plain": [
       "(<_PrefetchDataset element_spec=((TensorSpec(shape=(None, 15), dtype=tf.float32, name=None), TensorSpec(shape=(None, 20), dtype=tf.float32, name=None), TensorSpec(shape=(None,), dtype=tf.string, name=None), TensorSpec(shape=(None,), dtype=tf.string, name=None)), TensorSpec(shape=(None, 5), dtype=tf.float64, name=None))>,\n",
       " <_PrefetchDataset element_spec=((TensorSpec(shape=(None, 15), dtype=tf.float32, name=None), TensorSpec(shape=(None, 20), dtype=tf.float32, name=None), TensorSpec(shape=(None,), dtype=tf.string, name=None), TensorSpec(shape=(None,), dtype=tf.string, name=None)), TensorSpec(shape=(None, 5), dtype=tf.float64, name=None))>)"
      ]
     },
     "execution_count": 96,
     "metadata": {},
     "output_type": "execute_result"
    }
   ],
   "source": [
    "train_char_token_pos_dataset, val_char_token_pos_dataset"
   ]
  },
  {
   "cell_type": "code",
   "execution_count": 97,
   "id": "6005b36d-2806-43f5-a890-c89f1f4f324d",
   "metadata": {},
   "outputs": [
    {
     "name": "stdout",
     "output_type": "stream",
     "text": [
      "Epoch 1/5\n",
      "562/562 [==============================] - 32s 53ms/step - loss: 1.0964 - accuracy: 0.7219 - val_loss: 0.9871 - val_accuracy: 0.8039\n",
      "Epoch 2/5\n",
      "562/562 [==============================] - 29s 51ms/step - loss: 0.9689 - accuracy: 0.8148 - val_loss: 0.9525 - val_accuracy: 0.8231\n",
      "Epoch 3/5\n",
      "562/562 [==============================] - 29s 51ms/step - loss: 0.9511 - accuracy: 0.8227 - val_loss: 0.9387 - val_accuracy: 0.8305\n",
      "Epoch 4/5\n",
      "562/562 [==============================] - 29s 51ms/step - loss: 0.9395 - accuracy: 0.8337 - val_loss: 0.9325 - val_accuracy: 0.8351\n",
      "Epoch 5/5\n",
      "562/562 [==============================] - 29s 51ms/step - loss: 0.9365 - accuracy: 0.8346 - val_loss: 0.9265 - val_accuracy: 0.8421\n"
     ]
    }
   ],
   "source": [
    "history_5 = model_5.fit(train_char_token_pos_dataset, epochs=5, steps_per_epoch=int(0.1 * len(train_char_token_pos_dataset)), validation_data=val_char_token_pos_dataset, validation_steps=int(0.1 * len(val_char_token_pos_dataset)))"
   ]
  },
  {
   "cell_type": "code",
   "execution_count": 98,
   "id": "24c9b1d1-d723-4349-85fd-7c0cda24c719",
   "metadata": {},
   "outputs": [
    {
     "name": "stdout",
     "output_type": "stream",
     "text": [
      "945/945 [==============================] - 11s 10ms/step\n"
     ]
    },
    {
     "data": {
      "text/plain": [
       "array([[0.59965914, 0.07942806, 0.01535892, 0.2795003 , 0.02605364],\n",
       "       [0.6358556 , 0.08002486, 0.07262845, 0.19868319, 0.01280787],\n",
       "       [0.34360915, 0.10050704, 0.14111803, 0.36575025, 0.0490155 ],\n",
       "       ...,\n",
       "       [0.03110188, 0.05442756, 0.03334283, 0.02459825, 0.8565295 ],\n",
       "       [0.02157629, 0.29239386, 0.09795199, 0.02123627, 0.5668416 ],\n",
       "       [0.11479076, 0.67241573, 0.11789137, 0.02607216, 0.06882991]],\n",
       "      dtype=float32)"
      ]
     },
     "execution_count": 98,
     "metadata": {},
     "output_type": "execute_result"
    }
   ],
   "source": [
    "model_5_pred_probs = model_5.predict(val_char_token_pos_dataset, verbose=1)\n",
    "model_5_pred_probs"
   ]
  },
  {
   "cell_type": "code",
   "execution_count": 99,
   "id": "5c20c6bb-a514-43fd-b361-af94d648b31d",
   "metadata": {},
   "outputs": [
    {
     "data": {
      "text/plain": [
       "<tf.Tensor: shape=(30212,), dtype=int64, numpy=array([0, 0, 3, ..., 4, 4, 1])>"
      ]
     },
     "execution_count": 99,
     "metadata": {},
     "output_type": "execute_result"
    }
   ],
   "source": [
    "model_5_preds = tf.argmax(model_5_pred_probs, axis=1)\n",
    "model_5_preds"
   ]
  },
  {
   "cell_type": "code",
   "execution_count": 100,
   "id": "0859b63f-336d-479f-8836-45ce3a386696",
   "metadata": {},
   "outputs": [
    {
     "name": "stdout",
     "output_type": "stream",
     "text": [
      "              precision    recall  f1-score   support\n",
      "\n",
      "           0       0.71      0.81      0.75      3449\n",
      "           1       0.88      0.82      0.85      4582\n",
      "           2       0.83      0.94      0.88      9964\n",
      "           3       0.81      0.48      0.61      2376\n",
      "           4       0.89      0.85      0.87      9841\n",
      "\n",
      "    accuracy                           0.84     30212\n",
      "   macro avg       0.83      0.78      0.79     30212\n",
      "weighted avg       0.84      0.84      0.84     30212\n",
      "\n"
     ]
    }
   ],
   "source": [
    "print(classification_report(val_labels_encoded, model_5_preds))"
   ]
  },
  {
   "cell_type": "code",
   "execution_count": 101,
   "id": "8ba44bd9-8f39-4cc7-adcf-64b5ba7e102f",
   "metadata": {},
   "outputs": [
    {
     "name": "stdout",
     "output_type": "stream",
     "text": [
      "Epoch 1/5\n",
      "5627/5627 [==============================] - 278s 49ms/step - loss: 0.9190 - accuracy: 0.8471 - val_loss: 0.9085 - val_accuracy: 0.8484\n",
      "Epoch 2/5\n",
      "5627/5627 [==============================] - 277s 49ms/step - loss: 0.9024 - accuracy: 0.8594 - val_loss: 0.9036 - val_accuracy: 0.8507\n",
      "Epoch 3/5\n",
      "5627/5627 [==============================] - 278s 49ms/step - loss: 0.8928 - accuracy: 0.8664 - val_loss: 0.8995 - val_accuracy: 0.8574\n",
      "Epoch 4/5\n",
      "5627/5627 [==============================] - 278s 49ms/step - loss: 0.8855 - accuracy: 0.8719 - val_loss: 0.9013 - val_accuracy: 0.8551\n",
      "Epoch 5/5\n",
      "5627/5627 [==============================] - 279s 50ms/step - loss: 0.8794 - accuracy: 0.8764 - val_loss: 0.9004 - val_accuracy: 0.8554\n"
     ]
    }
   ],
   "source": [
    "history_6 = model_5.fit(train_char_token_pos_dataset, epochs=5, validation_data=val_char_token_pos_dataset, validation_steps=int(0.1 * len(val_char_token_pos_dataset)))"
   ]
  },
  {
   "cell_type": "code",
   "execution_count": 102,
   "id": "e483d264-8916-4e5a-a640-2078f65afad6",
   "metadata": {},
   "outputs": [],
   "source": [
    "test_char_token_pos_data = tf.data.Dataset.from_tensor_slices((test_line_numbers_one_hot, test_total_line_one_hot, test_sentences, test_chars))\n",
    "test_char_token_pos_labels = tf.data.Dataset.from_tensor_slices(test_labels_one_hot)\n",
    "test_char_token_pos_dataset = tf.data.Dataset.zip((test_char_token_pos_data, test_char_token_pos_labels))\n",
    "test_char_token_pos_dataset = test_char_token_pos_dataset.batch(32).prefetch(tf.data.AUTOTUNE)"
   ]
  },
  {
   "cell_type": "code",
   "execution_count": 107,
   "id": "08179ce1-8ef9-4d29-be94-68014036a3db",
   "metadata": {},
   "outputs": [
    {
     "name": "stdout",
     "output_type": "stream",
     "text": [
      "942/942 [==============================] - 10s 10ms/step\n"
     ]
    },
    {
     "data": {
      "text/plain": [
       "(30135, 5)"
      ]
     },
     "execution_count": 107,
     "metadata": {},
     "output_type": "execute_result"
    }
   ],
   "source": [
    "model_5_test_pred_probs = model_5.predict(test_char_token_pos_dataset)\n",
    "model_5_test_pred_probs.shape"
   ]
  },
  {
   "cell_type": "code",
   "execution_count": 114,
   "id": "1be92af1-cd92-4bda-9d82-dae90ac29982",
   "metadata": {},
   "outputs": [
    {
     "data": {
      "text/plain": [
       "array([0.36032778, 0.09056252, 0.0736318 , 0.35792372, 0.11755422],\n",
       "      dtype=float32)"
      ]
     },
     "execution_count": 114,
     "metadata": {},
     "output_type": "execute_result"
    }
   ],
   "source": [
    "model_5_test_pred_probs[0]"
   ]
  },
  {
   "cell_type": "code",
   "execution_count": 116,
   "id": "730f1969-129c-49b9-bd87-1f5782552e12",
   "metadata": {},
   "outputs": [
    {
     "data": {
      "text/plain": [
       "<tf.Tensor: shape=(30135,), dtype=int64, numpy=array([0, 2, 2, ..., 4, 4, 1])>"
      ]
     },
     "execution_count": 116,
     "metadata": {},
     "output_type": "execute_result"
    }
   ],
   "source": [
    "model_5_test_preds = tf.argmax(model_5_test_pred_probs, axis=1)\n",
    "model_5_test_preds"
   ]
  },
  {
   "cell_type": "code",
   "execution_count": 105,
   "id": "70f31759-103e-473d-9f9d-2d628845dbc7",
   "metadata": {},
   "outputs": [
    {
     "name": "stdout",
     "output_type": "stream",
     "text": [
      "942/942 [==============================] - 10s 10ms/step - loss: 0.9050 - accuracy: 0.8504\n"
     ]
    },
    {
     "data": {
      "text/plain": [
       "[0.9049815535545349, 0.8503733277320862]"
      ]
     },
     "execution_count": 105,
     "metadata": {},
     "output_type": "execute_result"
    }
   ],
   "source": [
    "model_5.evaluate(test_char_token_pos_dataset)"
   ]
  },
  {
   "cell_type": "code",
   "execution_count": 117,
   "id": "72240b4b-2d78-42bd-b048-ab94f2de250e",
   "metadata": {},
   "outputs": [
    {
     "name": "stdout",
     "output_type": "stream",
     "text": [
      "              precision    recall  f1-score   support\n",
      "\n",
      "           0       0.72      0.83      0.77      3621\n",
      "           1       0.88      0.86      0.87      4571\n",
      "           2       0.89      0.90      0.89      9897\n",
      "           3       0.80      0.49      0.61      2333\n",
      "           4       0.86      0.89      0.88      9713\n",
      "\n",
      "    accuracy                           0.85     30135\n",
      "   macro avg       0.83      0.79      0.80     30135\n",
      "weighted avg       0.85      0.85      0.85     30135\n",
      "\n"
     ]
    }
   ],
   "source": [
    "print(classification_report(test_labels_encoded, model_5_test_preds))"
   ]
  },
  {
   "cell_type": "code",
   "execution_count": null,
   "id": "696b29b5-6f6d-432b-bc59-d73ce09b0297",
   "metadata": {},
   "outputs": [],
   "source": []
  }
 ],
 "metadata": {
  "kernelspec": {
   "display_name": "Python 3 (ipykernel)",
   "language": "python",
   "name": "python3"
  },
  "language_info": {
   "codemirror_mode": {
    "name": "ipython",
    "version": 3
   },
   "file_extension": ".py",
   "mimetype": "text/x-python",
   "name": "python",
   "nbconvert_exporter": "python",
   "pygments_lexer": "ipython3",
   "version": "3.11.7"
  }
 },
 "nbformat": 4,
 "nbformat_minor": 5
}
